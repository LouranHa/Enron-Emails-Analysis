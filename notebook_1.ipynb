{
  "nbformat": 4,
  "nbformat_minor": 0,
  "metadata": {
    "colab": {
      "private_outputs": true,
      "provenance": [],
      "authorship_tag": "ABX9TyMMRx1uQySOOrfPGJDo//vF",
      "include_colab_link": true
    },
    "kernelspec": {
      "name": "python3",
      "display_name": "Python 3"
    },
    "language_info": {
      "name": "python"
    }
  },
  "cells": [
    {
      "cell_type": "markdown",
      "metadata": {
        "id": "view-in-github",
        "colab_type": "text"
      },
      "source": [
        "<a href=\"https://colab.research.google.com/github/LouranHa/isys2001-assignment-demo/blob/main/notebook_1.ipynb\" target=\"_parent\"><img src=\"https://colab.research.google.com/assets/colab-badge.svg\" alt=\"Open In Colab\"/></a>"
      ]
    },
    {
      "cell_type": "code",
      "execution_count": null,
      "metadata": {
        "id": "zrY3s5lqRVwT"
      },
      "outputs": [],
      "source": [
        "#here is how I download the data\n",
        "!wget -O enron.db https://curtin-my.sharepoint.com/:u:/g/personal/211934g_curtin_edu_au/EaYagsqa2r1Bi5wtHbswGFwBH2kd2uTnz6rlka7GI36GUQ?download=1"
      ]
    },
    {
      "cell_type": "code",
      "source": [
        "#here is how I connect to the databases\n",
        "import sqlite3\n",
        "con = sqlite3.connect('enron.db')\n",
        "cur = con.cursor()"
      ],
      "metadata": {
        "id": "84RcEGVJToC7"
      },
      "execution_count": null,
      "outputs": []
    },
    {
      "cell_type": "code",
      "source": [
        "#here us how i load a table \n",
        "SQL='''\n",
        "SELECT * FROM Recipientinfo\n",
        "\n",
        "'''\n",
        "cur.execute(SQL)\n",
        "\n",
        "import pandas as pd\n",
        "Recipientinfo_df = pd.read_sql_query(SQL, con)\n",
        "Recipientinfo_df\n",
        "\n"
      ],
      "metadata": {
        "id": "Gjxn5nlTTt-C"
      },
      "execution_count": null,
      "outputs": []
    },
    {
      "cell_type": "code",
      "source": [
        "import pandas as pd\n",
        "import re\n",
        "import sqlite3\n",
        "\n",
        "# Connect to the database\n",
        "conn = sqlite3.connect('enron.db')\n",
        "\n",
        "# Write your SQL query\n",
        "sql_query = '''SELECT * message'''\n",
        "\n",
        "# Load query results into a DataFrame\n",
        "message_df = pd.read_sql_query(SQL, con)\n",
        "\n",
        "# Close the database connection\n",
        "conn.close()\n",
        "\n",
        "\n",
        "\n",
        "# Now you can work with the DataFrame\n",
        "print(message_df.head())\n"
      ],
      "metadata": {
        "id": "J6JI2VuOUJ7S"
      },
      "execution_count": null,
      "outputs": []
    },
    {
      "cell_type": "code",
      "source": [
        "#here us how i load a table \n",
        "SQL='''\n",
        "SELECT * FROM Message\n",
        "\n",
        "'''\n",
        "cur.execute(SQL)\n",
        "\n",
        "import pandas as pd\n",
        "message_df = pd.read_sql_query(SQL, con)\n",
        "message_df.head()\n",
        "\n"
      ],
      "metadata": {
        "id": "lYyPtoVb7Smj"
      },
      "execution_count": null,
      "outputs": []
    },
    {
      "cell_type": "markdown",
      "source": [
        "làm sạch và xử data và addressing gtri bị missing or k nhất quán"
      ],
      "metadata": {
        "id": "KyYlsJBVAx_D"
      }
    },
    {
      "cell_type": "code",
      "source": [
        "import re\n",
        "\n",
        "def clean(text):\n",
        "    ''' Uses regular expression to extract English letters and digits from the supplied text. '''\n",
        "    regExp = \"(@[A-Za-z0-9]+)|([^0-9A-Za-z \\t])|(\\w+:\\/\\/\\S+)\"\n",
        "    return ' '.join(re.sub(regExp, \" \", text).split())\n",
        "\n",
        "# Load SQL query here ...\n",
        "\n",
        "SQL = '''\n",
        "SELECT * FROM message\n",
        "'''\n",
        "\n",
        "cur.execute(SQL)\n",
        "\n",
        "import pandas as pd\n",
        "message_df = pd.read_sql_query(SQL, con)\n",
        "\n",
        "# Apply the clean function to the 'text' column\n",
        "message_df['Clean Text'] = message_df['sender'].apply(clean)\n",
        "\n",
        "message_df.head()\n",
        "\n",
        "\n"
      ],
      "metadata": {
        "id": "7YF4wTxl6wKx"
      },
      "execution_count": null,
      "outputs": []
    },
    {
      "cell_type": "code",
      "source": [
        "import re\n",
        "\n",
        "def clean(text):\n",
        "    ''' Uses regular expression to extract English letters and digits from the supplied text. '''\n",
        "    regExp = \"(@[A-Za-z0-9]+)|([^0-9A-Za-z \\t])|(\\w+:\\/\\/\\S+)\"\n",
        "    return ' '.join(re.sub(regExp, \" \", text).split())\n",
        "\n",
        "# Load SQL query here ...\n",
        "\n",
        "SQL = '''\n",
        "SELECT * FROM Recipientinfo\n",
        "'''\n",
        "\n",
        "cur.execute(SQL)\n",
        "\n",
        "import pandas as pd\n",
        "Recipientinfo_df = pd.read_sql_query(SQL, con)\n",
        "\n",
        "# Convert the 'rid' column to string\n",
        "Recipientinfo_df['rid'] = Recipientinfo_df['rid'].astype(str)\n",
        "\n",
        "# Apply the clean function to the 'rid' column\n",
        "Recipientinfo_df['Clean Text'] = Recipientinfo_df['rid'].apply(clean)\n",
        "\n",
        "Recipientinfo_df.head()\n"
      ],
      "metadata": {
        "id": "ThnlQPLePd1O"
      },
      "execution_count": null,
      "outputs": []
    },
    {
      "cell_type": "markdown",
      "source": [
        "perform data manipulation tasks"
      ],
      "metadata": {
        "id": "dshrdqlhAv7B"
      }
    },
    {
      "cell_type": "code",
      "source": [
        "import re\n",
        "\n",
        "def clean(text):\n",
        "  ''' Uses regular expresison to extract english letter and digits from the supplied text. '''\n",
        "  regExp = \"(@[A-Za-z0-9]+)|([^0-9A-Za-z \\t])|(\\w+:\\/\\/\\S+)\"\n",
        "  return ' '.join(re.sub(regExp, \" \", text).split())\n",
        "\n",
        "tweet_df = message_df[['date','recipientinfo','message_id']]\n",
        "tweet_df.head(10)"
      ],
      "metadata": {
        "id": "NlkxM8BJAPm2"
      },
      "execution_count": null,
      "outputs": []
    },
    {
      "cell_type": "markdown",
      "source": [
        "this code for Email Traffic Over Time"
      ],
      "metadata": {
        "id": "4tjHqYphIVLf"
      }
    },
    {
      "cell_type": "code",
      "source": [
        "import sqlite3\n",
        "import pandas as pd\n",
        "import matplotlib.pyplot as plt\n",
        "\n",
        "# Connect to the Enron Email SQLite database\n",
        "conn = sqlite3.connect('enron.db')\n",
        "\n",
        "# SQL query to count the number of messages sent per month\n",
        "sql_query = '''\n",
        "SELECT strftime('%Y-%m', date) AS month, COUNT(*) AS message_count\n",
        "FROM Message\n",
        "GROUP BY month\n",
        "ORDER BY month\n",
        "'''\n",
        "\n",
        "# Execute the query and load results into a Pandas DataFrame\n",
        "df = pd.read_sql_query(sql_query, conn)\n",
        "\n",
        "# Set the 'month' column as the DataFrame index\n",
        "df.set_index('month', inplace=True)\n",
        "\n",
        "# Plot the volume of emails sent over time\n",
        "plt.plot(df.index, df['message_count'])\n",
        "plt.xlabel('Time')\n",
        "plt.ylabel('Number of Messages')\n",
        "plt.title('Volume of Emails Sent Over Time (Per Month)')\n",
        "plt.xticks([],[])\n",
        "\n",
        "plt.grid(False)\n",
        "plt.show()\n",
        "\n",
        "# Close the database connection\n",
        "conn.close()\n",
        "\n",
        "\n"
      ],
      "metadata": {
        "id": "nBB2MgN6BIXw"
      },
      "execution_count": null,
      "outputs": []
    },
    {
      "cell_type": "code",
      "source": [],
      "metadata": {
        "id": "wB9rwN9-GXtw"
      },
      "execution_count": null,
      "outputs": []
    },
    {
      "cell_type": "code",
      "source": [
        "import sqlite3\n",
        "import pandas as pd\n",
        "import matplotlib.pyplot as plt\n",
        "import matplotlib.dates as mdates\n",
        "\n",
        "# Connect to the Enron Email SQLite database\n",
        "conn = sqlite3.connect('enron.db')\n",
        "\n",
        "# SQL query to count the number of messages sent per month\n",
        "sql_query = '''\n",
        "SELECT strftime('%Y-%m', date) AS month, COUNT(*) AS message_count\n",
        "FROM Message\n",
        "GROUP BY month\n",
        "ORDER BY month\n",
        "'''\n",
        "\n",
        "# Execute the query and load results into a Pandas DataFrame\n",
        "df = pd.read_sql_query(sql_query, conn)\n",
        "\n",
        "# Set the 'month' column as the DataFrame index\n",
        "df.set_index('month', inplace=True)\n",
        "plt.figure(figsize=(15, 6))\n",
        "\n",
        "# Plot the volume of emails sent over time\n",
        "plt.plot(df.index, df['message_count'])\n",
        "plt.xlabel('Time')\n",
        "plt.ylabel('Number of Messages')\n",
        "plt.title('Volume of Emails Sent Over Time (Per Month)')\n",
        "\n",
        "# Format the x-axis to display month numbers\n",
        "plt.xticks(range(len(df.index)), df.index, rotation=90)\n",
        "\n",
        "plt.grid(False)\n",
        "plt.show()\n",
        "\n",
        "# Close the database connection\n",
        "conn.close()\n"
      ],
      "metadata": {
        "id": "4aB5iJJEFxen"
      },
      "execution_count": null,
      "outputs": []
    },
    {
      "cell_type": "markdown",
      "source": [
        "Top senders and recipients"
      ],
      "metadata": {
        "id": "vpBzJdC5JowX"
      }
    },
    {
      "cell_type": "code",
      "source": [
        "import sqlite3\n",
        "import pandas as pd\n",
        "\n",
        "# Connect to the Enron Email SQLite database\n",
        "conn = sqlite3.connect('enron.db')\n",
        "\n",
        "# SQL query to retrieve the sender and recipient information\n",
        "sql_query = '''\n",
        "SELECT sender AS email, COUNT(*) AS frequency\n",
        "FROM Message\n",
        "GROUP BY email\n",
        "ORDER BY frequency DESC\n",
        "LIMIT 10\n",
        "'''\n",
        "\n",
        "# Execute the query and load results into a Pandas DataFrame\n",
        "df_senders = pd.read_sql_query(sql_query, conn)\n",
        "\n",
        "# SQL query to retrieve the recipient information\n",
        "sql_query = '''\n",
        "SELECT rvalue AS email, COUNT(*) AS frequency\n",
        "FROM Recipientinfo\n",
        "GROUP BY email\n",
        "ORDER BY frequency DESC\n",
        "LIMIT 10\n",
        "'''\n",
        "\n",
        "# Execute the query and load results into another Pandas DataFrame\n",
        "df_recipients = pd.read_sql_query(sql_query, conn)\n",
        "\n",
        "# Close the database connection\n",
        "conn.close()\n",
        "\n",
        "# Print the most frequent email senders\n",
        "print(\"Most Frequent Email Senders:\")\n",
        "print(df_senders)\n",
        "\n",
        "# Print the most frequent email recipients\n",
        "print(\"\\nMost Frequent Email Recipients:\")\n",
        "print(df_recipients)\n"
      ],
      "metadata": {
        "id": "oe-TXZMlJmp4"
      },
      "execution_count": null,
      "outputs": []
    },
    {
      "cell_type": "markdown",
      "source": [
        "creating two horizontal bar charts"
      ],
      "metadata": {
        "id": "lxXGG_HuKf34"
      }
    },
    {
      "cell_type": "code",
      "source": [
        "import matplotlib.pyplot as plt\n",
        "\n",
        "# Create the figure and axes for the subplots\n",
        "fig, axes = plt.subplots(1, 2, figsize=(10, 6))\n",
        "\n",
        "# Set the data for the top senders chart\n",
        "senders_data = df_senders.sort_values('frequency', ascending=True)\n",
        "senders_names = senders_data['email']\n",
        "senders_frequency = senders_data['frequency']\n",
        "\n",
        "# Plot the top senders chart\n",
        "axes[0].barh(senders_names, senders_frequency)\n",
        "axes[0].set_title('Top Senders')\n",
        "axes[0].set_xlabel('Number of Emails')\n",
        "axes[0].set_ylabel('Employees')\n",
        "\n",
        "# Set the data for the top recipients chart\n",
        "recipients_data = df_recipients.sort_values('frequency', ascending=True)\n",
        "recipients_names = recipients_data['email']\n",
        "recipients_frequency = recipients_data['frequency']\n",
        "\n",
        "# Plot the top recipients chart\n",
        "axes[1].barh(recipients_names, recipients_frequency)\n",
        "axes[1].set_title('Top Recipients')\n",
        "axes[1].set_xlabel('Number of Emails')\n",
        "axes[1].set_ylabel('Employees')\n",
        "\n",
        "# Adjust the layout and spacing\n",
        "plt.tight_layout()\n",
        "\n",
        "# Display the charts\n",
        "plt.show()"
      ],
      "metadata": {
        "id": "WxnryL7wKgp5"
      },
      "execution_count": null,
      "outputs": []
    },
    {
      "cell_type": "markdown",
      "source": [
        "Email Distribution by Recipient Type"
      ],
      "metadata": {
        "id": "yGV47I2jMT76"
      }
    },
    {
      "cell_type": "code",
      "source": [
        "import pandas as pd\n",
        "import matplotlib.pyplot as plt\n",
        "\n",
        "# Write an SQL query to extract the recipient types and their counts\n",
        "query = \"SELECT rtype, COUNT(*) AS count FROM Recipientinfo GROUP BY rtype\"\n",
        "\n",
        "# Execute the query and load the results into a DataFrame\n",
        "df_recipient_types = pd.read_sql_query(query, con)\n",
        "\n",
        "plt.figure(figsize=(8, 6))\n",
        "plt.bar(df_recipient_types['rtype'], df_recipient_types['count'])\n",
        "plt.xlabel('Recipient Type')\n",
        "plt.ylabel('number of emails')\n",
        "plt.title('Proportion of Emails by Recipient Type')\n",
        "plt.xticks(rotation=0)\n",
        "plt.show()"
      ],
      "metadata": {
        "id": "y7vPe99UMX5j"
      },
      "execution_count": null,
      "outputs": []
    },
    {
      "cell_type": "markdown",
      "source": [
        "Creating a pie chart"
      ],
      "metadata": {
        "id": "Z3LyfAzBOpFz"
      }
    },
    {
      "cell_type": "code",
      "source": [
        "import pandas as pd\n",
        "import matplotlib.pyplot as plt\n",
        "\n",
        "# Write an SQL query to extract the recipient types and their counts\n",
        "query = \"SELECT rtype, COUNT(*) AS count FROM Recipientinfo GROUP BY rtype\"\n",
        "\n",
        "# Execute the query and load the results into a DataFrame\n",
        "df_recipient_types = pd.read_sql_query(query, con)\n",
        "\n",
        "# Create a pie chart\n",
        "plt.figure(figsize=(8, 6))\n",
        "plt.pie(df_recipient_types['count'], labels=df_recipient_types['rtype'], autopct='%1.1f%%')\n",
        "plt.title('Proportion of Emails by Recipient Type')\n",
        "plt.show()"
      ],
      "metadata": {
        "id": "_Nm6irLsOsYd"
      },
      "execution_count": null,
      "outputs": []
    }
  ]
}