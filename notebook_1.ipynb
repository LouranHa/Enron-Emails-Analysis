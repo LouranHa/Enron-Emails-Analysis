{
  "nbformat": 4,
  "nbformat_minor": 0,
  "metadata": {
    "colab": {
      "private_outputs": true,
      "provenance": [],
      "authorship_tag": "ABX9TyPqVBoqryJuMCnyV5R1nWJF",
      "include_colab_link": true
    },
    "kernelspec": {
      "name": "python3",
      "display_name": "Python 3"
    },
    "language_info": {
      "name": "python"
    }
  },
  "cells": [
    {
      "cell_type": "markdown",
      "metadata": {
        "id": "view-in-github",
        "colab_type": "text"
      },
      "source": [
        "<a href=\"https://colab.research.google.com/github/LouranHa/isys2001-assignment-demo/blob/main/notebook_1.ipynb\" target=\"_parent\"><img src=\"https://colab.research.google.com/assets/colab-badge.svg\" alt=\"Open In Colab\"/></a>"
      ]
    },
    {
      "cell_type": "markdown",
      "source": [
        "#**how to download the data**"
      ],
      "metadata": {
        "id": "a0-6WQNssBmO"
      }
    },
    {
      "cell_type": "code",
      "execution_count": null,
      "metadata": {
        "id": "zrY3s5lqRVwT"
      },
      "outputs": [],
      "source": [
        "\n",
        "!wget -O enron.db https://curtin-my.sharepoint.com/:u:/g/personal/211934g_curtin_edu_au/EaYagsqa2r1Bi5wtHbswGFwBH2kd2uTnz6rlka7GI36GUQ?download=1"
      ]
    },
    {
      "cell_type": "markdown",
      "source": [
        "There is a combination of two parts:\n",
        "\n",
        "\n",
        "* The first portion, \"!wget -O enron.db,\" is a command used in Jupyter Notebook and other environments to download a file from a given URL and save it under the given name. The programme will try to retrieve a file from the specified location (URL) and save it in the 'enron.db' format.\n",
        "\n",
        "* The second part of the code,' \"\" ' is a literal empty string. However, it appears to be placed irrelevantly outside of the code block. This has no effect on how the code is run.\n",
        "\n"
      ],
      "metadata": {
        "id": "AtRlFtlRsOM9"
      }
    },
    {
      "cell_type": "markdown",
      "source": [
        "#**connect to the databases**"
      ],
      "metadata": {
        "id": "4NdHK2fTs84Z"
      }
    },
    {
      "cell_type": "code",
      "source": [
        "\n",
        "import sqlite3\n",
        "con = sqlite3.connect('enron.db')\n",
        "cur = con.cursor()"
      ],
      "metadata": {
        "id": "84RcEGVJToC7"
      },
      "execution_count": null,
      "outputs": []
    },
    {
      "cell_type": "markdown",
      "source": [
        "Based on above code, I will demonstrates how to connect to an SQLite database named 'enron.db' by using Python and the sqlite3 library.\n",
        "\n",
        "\n",
        "1. the sqlite3 module is imported, which provides the necessary functions and classes for working with SQLite databases.\n",
        "\n",
        "2. The 'enron.db' database file is accessed via the sqlite3.connect() function. This function accepts the file path to a database as an argument and returns an object that acts as a connection to that database.\n",
        "\n",
        "3. By asserting con.cursor(), we can make a cursor object that can be used to run SQL queries and retrieve data. The variable cur now stores the cursor object.\n",
        "\n",
        "\n",
        "\n",
        "\n",
        "\n"
      ],
      "metadata": {
        "id": "sxPt3mUjolac"
      }
    },
    {
      "cell_type": "markdown",
      "source": [
        "#**Load a table**\n",
        "I just use the below code that the way how I load a table. To be more specific, It specifies a SQL query string that retrieves data from every column in the 'Recipientinfo' table. The SQL query is then sent to the SQLite database associated with the 'enron.db' file via the cursor object 'cur'. The 'pandas' library, abbreviated 'pd,' is then imported so that tabular data can be worked with. It runs the same SQL query and imports the results into a pandas DataFrame called \"Recipientinfo df\" using the \"read sql query()\" function. The result of the SQL query is stored in the 'Recipientinfo df' data frame, which is displayed at the end of the code. Data from the 'Recipientinfo' table can be viewed and analysed in a tabular format."
      ],
      "metadata": {
        "id": "ZOIrktj4qPkh"
      }
    },
    {
      "cell_type": "code",
      "source": [
        "\n",
        "SQL='''\n",
        "SELECT * FROM Recipientinfo\n",
        "\n",
        "'''\n",
        "cur.execute(SQL)\n",
        "\n",
        "import pandas as pd\n",
        "Recipientinfo_df = pd.read_sql_query(SQL, con)\n",
        "Recipientinfo_df\n",
        "\n"
      ],
      "metadata": {
        "id": "Gjxn5nlTTt-C"
      },
      "execution_count": null,
      "outputs": []
    },
    {
      "cell_type": "markdown",
      "source": [
        "this code can be seen as another way to load a table from an SQLite database into a pandas DataFrame."
      ],
      "metadata": {
        "id": "q7o07H-4rRC-"
      }
    },
    {
      "cell_type": "code",
      "source": [
        "import pandas as pd\n",
        "import re\n",
        "import sqlite3\n",
        "\n",
        "# Connect to the database\n",
        "conn = sqlite3.connect('enron.db')\n",
        "\n",
        "# Write your SQL query\n",
        "sql_query = '''SELECT * message'''\n",
        "\n",
        "# Load query results into a DataFrame\n",
        "message_df = pd.read_sql_query(SQL, con)\n",
        "\n",
        "# Close the database connection\n",
        "conn.close()\n",
        "\n",
        "\n",
        "\n",
        "# Now you can work with the DataFrame\n",
        "print(message_df.head())\n"
      ],
      "metadata": {
        "id": "J6JI2VuOUJ7S"
      },
      "execution_count": null,
      "outputs": []
    },
    {
      "cell_type": "markdown",
      "source": [
        "Im using \" head()\" funtion to Display the first 5 lines"
      ],
      "metadata": {
        "id": "AEoETknvmC-a"
      }
    },
    {
      "cell_type": "code",
      "source": [
        "#here us how i load a table \n",
        "SQL='''\n",
        "SELECT * FROM Message\n",
        "\n",
        "'''\n",
        "cur.execute(SQL)\n",
        "\n",
        "import pandas as pd\n",
        "message_df = pd.read_sql_query(SQL, con)\n",
        "message_df.head()\n",
        "\n"
      ],
      "metadata": {
        "id": "lYyPtoVb7Smj"
      },
      "execution_count": null,
      "outputs": []
    },
    {
      "cell_type": "markdown",
      "source": [
        "\n",
        "I'm trying to run a piece of code for the purpose of \" clean text \""
      ],
      "metadata": {
        "id": "KyYlsJBVAx_D"
      }
    },
    {
      "cell_type": "code",
      "source": [
        "import re\n",
        "\n",
        "def clean(text):\n",
        "    ''' Uses regular expression to extract English letters and digits from the supplied text. '''\n",
        "    regExp = \"(@[A-Za-z0-9]+)|([^0-9A-Za-z \\t])|(\\w+:\\/\\/\\S+)\"\n",
        "    return ' '.join(re.sub(regExp, \" \", text).split())\n",
        "\n",
        "# Load SQL query here ...\n",
        "\n",
        "SQL = '''\n",
        "SELECT * FROM message\n",
        "'''\n",
        "\n",
        "cur.execute(SQL)\n",
        "\n",
        "import pandas as pd\n",
        "message_df = pd.read_sql_query(SQL, con)\n",
        "\n",
        "# Apply the clean function to the 'text' column\n",
        "message_df['Clean Text'] = message_df['sender'].apply(clean)\n",
        "\n",
        "message_df.head()\n",
        "\n",
        "\n"
      ],
      "metadata": {
        "id": "7YF4wTxl6wKx"
      },
      "execution_count": null,
      "outputs": []
    },
    {
      "cell_type": "markdown",
      "source": [
        "trying with another table ( Recipientinfo table)"
      ],
      "metadata": {
        "id": "C3qVZzoOmmd2"
      }
    },
    {
      "cell_type": "code",
      "source": [
        "import re\n",
        "\n",
        "def clean(text):\n",
        "    ''' Uses regular expression to extract English letters and digits from the supplied text. '''\n",
        "    regExp = \"(@[A-Za-z0-9]+)|([^0-9A-Za-z \\t])|(\\w+:\\/\\/\\S+)\"\n",
        "    return ' '.join(re.sub(regExp, \" \", text).split())\n",
        "\n",
        "# Load SQL query here ...\n",
        "\n",
        "SQL = '''\n",
        "SELECT * FROM Recipientinfo\n",
        "'''\n",
        "\n",
        "cur.execute(SQL)\n",
        "\n",
        "import pandas as pd\n",
        "Recipientinfo_df = pd.read_sql_query(SQL, con)\n",
        "\n",
        "# Convert the 'rid' column to string\n",
        "Recipientinfo_df['rid'] = Recipientinfo_df['rid'].astype(str)\n",
        "\n",
        "# Apply the clean function to the 'rid' column\n",
        "Recipientinfo_df['Clean Text'] = Recipientinfo_df['rid'].apply(clean)\n",
        "\n",
        "Recipientinfo_df.head()\n"
      ],
      "metadata": {
        "id": "ThnlQPLePd1O"
      },
      "execution_count": null,
      "outputs": []
    },
    {
      "cell_type": "markdown",
      "source": [
        "#**Analyses and Visualisation**\n",
        "\n",
        "\n",
        "## Email Traffic Over Time"
      ],
      "metadata": {
        "id": "4tjHqYphIVLf"
      }
    },
    {
      "cell_type": "markdown",
      "source": [
        "this below code which was provided by ChatHungging. it performs an analysis of the volume of emails sent over time using data from the Enron Email SQLite database. However, as seen in the resulting graph, at the x-axis not showing the timeline."
      ],
      "metadata": {
        "id": "6sKmlUCPnBCW"
      }
    },
    {
      "cell_type": "code",
      "source": [
        "import sqlite3\n",
        "import pandas as pd\n",
        "import matplotlib.pyplot as plt\n",
        "\n",
        "# Connect to the Enron Email SQLite database\n",
        "conn = sqlite3.connect('enron.db')\n",
        "\n",
        "# SQL query to count the number of messages sent per month\n",
        "sql_query = '''\n",
        "SELECT strftime('%Y-%m', date) AS month, COUNT(*) AS message_count\n",
        "FROM Message\n",
        "GROUP BY month\n",
        "ORDER BY month\n",
        "'''\n",
        "\n",
        "# Execute the query and load results into a Pandas DataFrame\n",
        "df = pd.read_sql_query(sql_query, conn)\n",
        "\n",
        "# Set the 'month' column as the DataFrame index\n",
        "df.set_index('month', inplace=True)\n",
        "\n",
        "# Plot the volume of emails sent over time\n",
        "plt.plot(df.index, df['message_count'])\n",
        "plt.xlabel('Time')\n",
        "plt.ylabel('Number of Messages')\n",
        "plt.title('Volume of Emails Sent Over Time (Per Month)')\n",
        "plt.xticks([],[])\n",
        "\n",
        "plt.grid(False)\n",
        "plt.show()\n",
        "\n",
        "# Close the database connection\n",
        "conn.close()\n",
        "\n",
        "\n"
      ],
      "metadata": {
        "id": "nBB2MgN6BIXw"
      },
      "execution_count": null,
      "outputs": []
    },
    {
      "cell_type": "markdown",
      "source": [
        "To fix the above code error, I searched and asked for help from gpt chat. it gave me a below code."
      ],
      "metadata": {
        "id": "XLq765byn8uU"
      }
    },
    {
      "cell_type": "code",
      "source": [
        "import sqlite3\n",
        "import pandas as pd\n",
        "import matplotlib.pyplot as plt\n",
        "import matplotlib.dates as mdates\n",
        "\n",
        "# Connect to the Enron Email SQLite database\n",
        "conn = sqlite3.connect('enron.db')\n",
        "\n",
        "# SQL query to count the number of messages sent per month\n",
        "sql_query = '''\n",
        "SELECT strftime('%Y-%m', date) AS month, COUNT(*) AS message_count\n",
        "FROM Message\n",
        "GROUP BY month\n",
        "ORDER BY month\n",
        "'''\n",
        "\n",
        "# Execute the query and load results into a Pandas DataFrame\n",
        "df = pd.read_sql_query(sql_query, conn)\n",
        "\n",
        "# Set the 'month' column as the DataFrame index\n",
        "df.set_index('month', inplace=True)\n",
        "plt.figure(figsize=(15, 6))\n",
        "\n",
        "# Plot the volume of emails sent over time\n",
        "plt.plot(df.index, df['message_count'])\n",
        "plt.xlabel('Time')\n",
        "plt.ylabel('Number of Messages')\n",
        "plt.title('Volume of Emails Sent Over Time (Per Month)')\n",
        "\n",
        "# Format the x-axis to display month numbers\n",
        "plt.xticks(range(len(df.index)), df.index, rotation=90)\n",
        "\n",
        "plt.grid(False)\n",
        "plt.show()\n",
        "\n",
        "# Close the database connection\n",
        "conn.close()\n"
      ],
      "metadata": {
        "id": "4aB5iJJEFxen"
      },
      "execution_count": null,
      "outputs": []
    },
    {
      "cell_type": "markdown",
      "source": [
        "###Cleaned code\n",
        "Im trying to clean the data and Here's the code to clean and preprocess the data and visualize the volume of emails sent over time"
      ],
      "metadata": {
        "id": "LSyxibFYWWeo"
      }
    },
    {
      "cell_type": "code",
      "source": [
        "import sqlite3\n",
        "import pandas as pd\n",
        "import matplotlib.pyplot as plt\n",
        "import matplotlib.dates as mdates\n",
        "\n",
        "# Connect to the Enron Email SQLite database\n",
        "conn = sqlite3.connect('enron.db')\n",
        "\n",
        "# SQL query to count the number of messages sent per month\n",
        "sql_query = '''\n",
        "SELECT strftime('%Y-%m', date) AS month, COUNT(*) AS message_count\n",
        "FROM Message\n",
        "GROUP BY month\n",
        "ORDER BY month\n",
        "'''\n",
        "\n",
        "# Execute the query and load results into a Pandas DataFrame\n",
        "df = pd.read_sql_query(sql_query, conn)\n",
        "\n",
        "# Close the database connection\n",
        "conn.close()\n",
        "\n",
        "# Plot the volume of emails sent over time\n",
        "plt.figure(figsize=(15, 6))\n",
        "plt.plot(df['month'], df['message_count'])\n",
        "plt.xlabel('Time')\n",
        "plt.ylabel('Number of Messages')\n",
        "plt.title('Volume of Emails Sent Over Time (Per Month)')\n",
        "\n",
        "# Format the x-axis as months\n",
        "plt.gca().xaxis.set_major_formatter(mdates.DateFormatter('%Y-%m'))\n",
        "plt.gca().xaxis.set_major_locator(mdates.MonthLocator())\n",
        "\n",
        "plt.grid(False)\n",
        "plt.show()\n",
        "\n"
      ],
      "metadata": {
        "id": "XkJTo4FSVkHD"
      },
      "execution_count": null,
      "outputs": []
    },
    {
      "cell_type": "markdown",
      "source": [
        "##Top senders and recipients"
      ],
      "metadata": {
        "id": "vpBzJdC5JowX"
      }
    },
    {
      "cell_type": "code",
      "source": [
        "import sqlite3\n",
        "import pandas as pd\n",
        "\n",
        "# Connect to the Enron Email SQLite database\n",
        "conn = sqlite3.connect('enron.db')\n",
        "\n",
        "# SQL query to retrieve the sender and recipient information\n",
        "sql_query = '''\n",
        "SELECT sender AS email, COUNT(*) AS frequency\n",
        "FROM Message\n",
        "GROUP BY email\n",
        "ORDER BY frequency DESC\n",
        "LIMIT 10\n",
        "'''\n",
        "\n",
        "# Execute the query and load results into a Pandas DataFrame\n",
        "df_senders = pd.read_sql_query(sql_query, conn)\n",
        "\n",
        "# SQL query to retrieve the recipient information\n",
        "sql_query = '''\n",
        "SELECT rvalue AS email, COUNT(*) AS frequency\n",
        "FROM Recipientinfo\n",
        "GROUP BY email\n",
        "ORDER BY frequency DESC\n",
        "LIMIT 10\n",
        "'''\n",
        "\n",
        "# Execute the query and load results into another Pandas DataFrame\n",
        "df_recipients = pd.read_sql_query(sql_query, conn)\n",
        "\n",
        "# Close the database connection\n",
        "conn.close()\n",
        "\n",
        "# Print the most frequent email senders\n",
        "print(\"Most Frequent Email Senders:\")\n",
        "print(df_senders)\n",
        "\n",
        "# Print the most frequent email recipients\n",
        "print(\"\\nMost Frequent Email Recipients:\")\n",
        "print(df_recipients)\n"
      ],
      "metadata": {
        "id": "oe-TXZMlJmp4"
      },
      "execution_count": null,
      "outputs": []
    },
    {
      "cell_type": "markdown",
      "source": [
        "The data has been cleaned and is included in the below code. Pandas DataFrames df senders and df recipients are populated with the top email senders and receivers from the Enron Email SQLite database. The data has been cleaned and processed and is now stored in these DataFrames, ready for further examination and visualisation. To retrieve both sender and receiver details, the code runs two separate SQL queries. Next, we use pd.read sql query to import the outcomes into the DataFrames df senders and df recipients."
      ],
      "metadata": {
        "id": "Fh464iTvcv0H"
      }
    },
    {
      "cell_type": "code",
      "source": [
        "import sqlite3\n",
        "import pandas as pd\n",
        "\n",
        "# Connect to the Enron Email SQLite database\n",
        "conn = sqlite3.connect('enron.db')\n",
        "\n",
        "# SQL query to retrieve the sender information\n",
        "sql_query_senders = '''\n",
        "SELECT sender AS email, COUNT(*) AS frequency\n",
        "FROM Message\n",
        "GROUP BY email\n",
        "ORDER BY frequency DESC\n",
        "LIMIT 10\n",
        "'''\n",
        "\n",
        "# Execute the query and load results into a Pandas DataFrame\n",
        "df_senders = pd.read_sql_query(sql_query_senders, conn)\n",
        "\n",
        "# SQL query to retrieve the recipient information\n",
        "sql_query_recipients = '''\n",
        "SELECT rvalue AS email, COUNT(*) AS frequency\n",
        "FROM Recipientinfo\n",
        "GROUP BY email\n",
        "ORDER BY frequency DESC\n",
        "LIMIT 10\n",
        "'''\n",
        "\n",
        "# Execute the query and load results into another Pandas DataFrame\n",
        "df_recipients = pd.read_sql_query(sql_query_recipients, conn)\n",
        "\n",
        "# Close the database connection\n",
        "conn.close()\n",
        "\n",
        "# Print the most frequent email senders\n",
        "print(\"Most Frequent Email Senders:\")\n",
        "print(df_senders)\n",
        "\n",
        "# Print the most frequent email recipients\n",
        "print(\"\\nMost Frequent Email Recipients:\")\n",
        "print(df_recipients)"
      ],
      "metadata": {
        "id": "L3E8g48uczNu"
      },
      "execution_count": null,
      "outputs": []
    },
    {
      "cell_type": "markdown",
      "source": [
        "####cleaned code\n",
        "\n",
        "However, With the help of the finished code provided by chat GPT, I was able to successfully connect to the Enron Email SQLite database and retrieve the sender and recipient information by means of SQL queries. Two Pandas DataFrames (df senders and df recipients) are used to store the results. I then proceed to preprocess and clean the data further. In the provided example, I use the dropna() method to get rid of rows with null values and the str.lower() method to change the case of the email column. When processing is complete, the console receives the cleaned and preprocessed data."
      ],
      "metadata": {
        "id": "FRpLXAfPY1Bk"
      }
    },
    {
      "cell_type": "code",
      "source": [
        "import sqlite3\n",
        "import pandas as pd\n",
        "\n",
        "# Connect to the Enron Email SQLite database\n",
        "conn = sqlite3.connect('enron.db')\n",
        "\n",
        "# SQL query to retrieve the sender information\n",
        "sql_query_senders = '''\n",
        "SELECT sender AS email, COUNT(*) AS frequency\n",
        "FROM Message\n",
        "GROUP BY email\n",
        "ORDER BY frequency DESC\n",
        "LIMIT 10\n",
        "'''\n",
        "\n",
        "# Execute the query and load results into a Pandas DataFrame\n",
        "df_senders = pd.read_sql_query(sql_query_senders, conn)\n",
        "\n",
        "# SQL query to retrieve the recipient information\n",
        "sql_query_recipients = '''\n",
        "SELECT rvalue AS email, COUNT(*) AS frequency\n",
        "FROM Recipientinfo\n",
        "GROUP BY email\n",
        "ORDER BY frequency DESC\n",
        "LIMIT 10\n",
        "'''\n",
        "\n",
        "# Execute the query and load results into another Pandas DataFrame\n",
        "df_recipients = pd.read_sql_query(sql_query_recipients, conn)\n",
        "\n",
        "# Close the database connection\n",
        "conn.close()\n",
        "\n",
        "# Perform additional data cleaning or preprocessing steps\n",
        "# Example: Remove any rows with missing values\n",
        "df_senders.dropna(inplace=True)\n",
        "df_recipients.dropna(inplace=True)\n",
        "\n",
        "# Example: Convert email column to lowercase\n",
        "df_senders['email'] = df_senders['email'].str.lower()\n",
        "df_recipients['email'] = df_recipients['email'].str.lower()\n",
        "\n",
        "# Print the cleaned and preprocessed data\n",
        "print(\"Most Frequent Email Senders:\")\n",
        "print(df_senders)\n",
        "\n",
        "print(\"\\nMost Frequent Email Recipients:\")\n",
        "print(df_recipients)\n"
      ],
      "metadata": {
        "id": "RwnMvi3ScWPr"
      },
      "execution_count": null,
      "outputs": []
    },
    {
      "cell_type": "markdown",
      "source": [
        "creating two horizontal bar charts"
      ],
      "metadata": {
        "id": "lxXGG_HuKf34"
      }
    },
    {
      "cell_type": "code",
      "source": [
        "import matplotlib.pyplot as plt\n",
        "\n",
        "# Create the figure and axes for the subplots\n",
        "fig, axes = plt.subplots(1, 2, figsize=(10, 6))\n",
        "\n",
        "# Set the data for the top senders chart\n",
        "senders_data = df_senders.sort_values('frequency', ascending=True)\n",
        "senders_names = senders_data['email']\n",
        "senders_frequency = senders_data['frequency']\n",
        "\n",
        "# Plot the top senders chart\n",
        "axes[0].barh(senders_names, senders_frequency)\n",
        "axes[0].set_title('Top Senders')\n",
        "axes[0].set_xlabel('Number of Emails')\n",
        "axes[0].set_ylabel('Employees')\n",
        "\n",
        "# Set the data for the top recipients chart\n",
        "recipients_data = df_recipients.sort_values('frequency', ascending=True)\n",
        "recipients_names = recipients_data['email']\n",
        "recipients_frequency = recipients_data['frequency']\n",
        "\n",
        "# Plot the top recipients chart\n",
        "axes[1].barh(recipients_names, recipients_frequency)\n",
        "axes[1].set_title('Top Recipients')\n",
        "axes[1].set_xlabel('Number of Emails')\n",
        "axes[1].set_ylabel('Employees')\n",
        "\n",
        "# Adjust the layout and spacing\n",
        "plt.tight_layout()\n",
        "\n",
        "# Display the charts\n",
        "plt.show()"
      ],
      "metadata": {
        "id": "WxnryL7wKgp5"
      },
      "execution_count": null,
      "outputs": []
    },
    {
      "cell_type": "markdown",
      "source": [
        "##Email Distribution by Recipient Type"
      ],
      "metadata": {
        "id": "yGV47I2jMT76"
      }
    },
    {
      "cell_type": "code",
      "source": [
        "import pandas as pd\n",
        "import matplotlib.pyplot as plt\n",
        "\n",
        "# Write an SQL query to extract the recipient types and their counts\n",
        "query = \"SELECT rtype, COUNT(*) AS count FROM Recipientinfo GROUP BY rtype\"\n",
        "\n",
        "# Execute the query and load the results into a DataFrame\n",
        "df_recipient_types = pd.read_sql_query(query, con)\n",
        "\n",
        "plt.figure(figsize=(8, 6))\n",
        "plt.bar(df_recipient_types['rtype'], df_recipient_types['count'])\n",
        "plt.xlabel('Recipient Type')\n",
        "plt.ylabel('number of emails')\n",
        "plt.title('Proportion of Emails by Recipient Type')\n",
        "plt.xticks(rotation=0)\n",
        "plt.show()"
      ],
      "metadata": {
        "id": "y7vPe99UMX5j"
      },
      "execution_count": null,
      "outputs": []
    },
    {
      "cell_type": "markdown",
      "source": [
        "###cleaned code for Email distribution"
      ],
      "metadata": {
        "id": "_LfsgAc4bXbf"
      }
    },
    {
      "cell_type": "code",
      "source": [
        "import pandas as pd\n",
        "import matplotlib.pyplot as plt\n",
        "import sqlite3\n",
        "\n",
        "# Connect to the Enron Email SQLite database\n",
        "conn = sqlite3.connect('enron.db')\n",
        "\n",
        "# Perform data cleaning and preprocessing steps\n",
        "# Query the data from the database\n",
        "query = \"SELECT rtype, COUNT(*) AS count FROM Recipientinfo GROUP BY rtype\"\n",
        "df = pd.read_sql_query(query, conn)\n",
        "\n",
        "# Drop missing values\n",
        "df = df.dropna()\n",
        "\n",
        "# Remove duplicates\n",
        "df = df.drop_duplicates()\n",
        "\n",
        "# Close the database connection\n",
        "conn.close()\n",
        "\n",
        "# Plot the cleaned and preprocessed data\n",
        "plt.figure(figsize=(8, 5))\n",
        "plt.bar(df['rtype'], df['count'])\n",
        "plt.xlabel('Recipient Type')\n",
        "plt.ylabel('Number of Emails')\n",
        "plt.title('Proportion of Emails by Recipient Type')\n",
        "plt.xticks(rotation=0)\n",
        "plt.show()\n"
      ],
      "metadata": {
        "id": "uz3KaKnsbfiy"
      },
      "execution_count": null,
      "outputs": []
    },
    {
      "cell_type": "markdown",
      "source": [
        "Creating a pie chart"
      ],
      "metadata": {
        "id": "Z3LyfAzBOpFz"
      }
    },
    {
      "cell_type": "code",
      "source": [
        "import pandas as pd\n",
        "import matplotlib.pyplot as plt\n",
        "\n",
        "# Write an SQL query to extract the recipient types and their counts\n",
        "query = \"SELECT rtype, COUNT(*) AS count FROM Recipientinfo GROUP BY rtype\"\n",
        "\n",
        "# Execute the query and load the results into a DataFrame\n",
        "df_recipient_types = pd.read_sql_query(query, con)\n",
        "\n",
        "# Create a pie chart\n",
        "plt.figure(figsize=(8, 6))\n",
        "plt.pie(df_recipient_types['count'], labels=df_recipient_types['rtype'], autopct='%1.1f%%')\n",
        "plt.title('Proportion of Emails by Recipient Type')\n",
        "plt.show()"
      ],
      "metadata": {
        "id": "_Nm6irLsOsYd"
      },
      "execution_count": null,
      "outputs": []
    },
    {
      "cell_type": "markdown",
      "source": [
        "#word cloud"
      ],
      "metadata": {
        "id": "L6tNO1jQBfor"
      }
    },
    {
      "cell_type": "markdown",
      "source": [
        "this code facilitates the creation of a visually appealing word cloud representation based on the provided text data, offering a quick and intuitive way to observe the frequency and importance of different words within the collection of messages."
      ],
      "metadata": {
        "id": "68mjpKLtSR33"
      }
    },
    {
      "cell_type": "code",
      "source": [
        "!curl -Ol https://raw.githubusercontent.com/michael-borck/isys2001-worksheets/main/stopwords.py\n",
        "# Libraries\n",
        "from wordcloud import WordCloud\n",
        "import matplotlib.pyplot as plt\n",
        "from stopwords import ENGLISH_STOP_WORDS\n",
        "\n",
        "# Get all the messages\n",
        "messages = ' '.join(message_df['body'])\n",
        "\n",
        "#stop_words = ENGLISH_STOP_WORDS.add(search_term)    \n",
        "# Create the wordcloud object\n",
        "wordcloud = WordCloud(width=680, height=480, margin=0, \n",
        "                      stopwords=ENGLISH_STOP_WORDS).generate(messages)\n",
        "\n",
        "# Display the generated image:\n",
        "plt.imshow(wordcloud, interpolation='bilinear')\n",
        "plt.axis(\"off\")\n",
        "plt.margins(x=0, y=0)\n",
        "plt.show()"
      ],
      "metadata": {
        "id": "bNdfSdyxBuzP"
      },
      "execution_count": null,
      "outputs": []
    }
  ]
}