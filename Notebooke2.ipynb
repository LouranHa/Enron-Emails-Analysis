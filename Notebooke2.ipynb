{
  "nbformat": 4,
  "nbformat_minor": 0,
  "metadata": {
    "colab": {
      "private_outputs": true,
      "provenance": [],
      "authorship_tag": "ABX9TyN92sSQSSlncYLTG6G1ef1y",
      "include_colab_link": true
    },
    "kernelspec": {
      "name": "python3",
      "display_name": "Python 3"
    },
    "language_info": {
      "name": "python"
    }
  },
  "cells": [
    {
      "cell_type": "markdown",
      "metadata": {
        "id": "view-in-github",
        "colab_type": "text"
      },
      "source": [
        "<a href=\"https://colab.research.google.com/github/LouranHa/isys2001-assignment-demo/blob/main/Notebooke2.ipynb\" target=\"_parent\"><img src=\"https://colab.research.google.com/assets/colab-badge.svg\" alt=\"Open In Colab\"/></a>"
      ]
    },
    {
      "cell_type": "code",
      "execution_count": null,
      "metadata": {
        "id": "dieub2Db-eOP"
      },
      "outputs": [],
      "source": [
        "#here is how I download the data\n",
        "!wget -O enron.db https://curtin-my.sharepoint.com/:u:/g/personal/211934g_curtin_edu_au/EaYagsqa2r1Bi5wtHbswGFwBH2kd2uTnz6rlka7GI36GUQ?download=1"
      ]
    },
    {
      "cell_type": "code",
      "source": [
        "#here is how I connect to the databases\n",
        "import sqlite3\n",
        "con = sqlite3.connect('enron.db')\n",
        "cur = con.cursor()"
      ],
      "metadata": {
        "id": "r0Nhgxt1-m5f"
      },
      "execution_count": null,
      "outputs": []
    },
    {
      "cell_type": "code",
      "source": [
        "import pandas as pd\n",
        "import sqlite3\n",
        "\n",
        "# Establish a connection to the SQLite database\n",
        "conn = sqlite3.connect('your_database.db')\n",
        "\n",
        "# Write an SQL query to extract the desired information\n",
        "query = '''\n",
        "SELECT sender, rvalue AS recipient, date, subject, body\n",
        "FROM Message m\n",
        "JOIN Recipientinfo r ON m.mid = r.mid\n",
        "'''\n",
        "\n",
        "# Execute the query and load the results into a DataFrame\n",
        "df = pd.read_sql_query(query, con)\n",
        "\n",
        "# Close the database connection\n",
        "conn.close()\n",
        "# Now you can work with the DataFrame\n",
        "print()\n",
        "\n",
        "# Perform further analysis or manipulate the DataFrame as needed\n",
        "# For example, you can access specific columns like df['sender'], df['date'], etc.\n"
      ],
      "metadata": {
        "id": "xpjUZOVN_JuA"
      },
      "execution_count": null,
      "outputs": []
    },
    {
      "cell_type": "code",
      "source": [
        "#here us how i load a table \n",
        "SQL='''\n",
        "SELECT * FROM Employeelist\n",
        "\n",
        "'''\n",
        "cur.execute(SQL)\n",
        "\n",
        "import pandas as pd\n",
        "Employeelist_df = pd.read_sql_query(SQL, con)\n",
        "Employeelist_df\n"
      ],
      "metadata": {
        "id": "OFLjy9HtHUsx"
      },
      "execution_count": null,
      "outputs": []
    },
    {
      "cell_type": "code",
      "source": [
        "import re\n",
        "\n",
        "def clean(text):\n",
        "    ''' Uses regular expression to extract English letters and digits from the supplied text. '''\n",
        "    regExp = \"(@[A-Za-z0-9]+)|([^0-9A-Za-z \\t])|(\\w+:\\/\\/\\S+)\"\n",
        "    return ' '.join(re.sub(regExp, \" \", text).split())\n",
        "\n",
        "# Load SQL query here ...\n",
        "\n",
        "SQL = '''\n",
        "SELECT * FROM Employeelist\n",
        "'''\n",
        "\n",
        "cur.execute(SQL)\n",
        "\n",
        "import pandas as pd\n",
        "message_df = pd.read_sql_query(SQL, con)\n",
        "\n",
        "# Apply the clean function to the 'text' column\n",
        "Employeelist_df['Clean Text'] = Employeelist_df['Email_id'].apply(clean)\n",
        "\n",
        "Employeelist_df.head()\n",
        "\n",
        "\n"
      ],
      "metadata": {
        "id": "qQFwujytGY8A"
      },
      "execution_count": null,
      "outputs": []
    },
    {
      "cell_type": "code",
      "source": [
        "import pandas as pd\n",
        "\n",
        "# Load SQL query here ...\n",
        "\n",
        "SQL = '''\n",
        "SELECT * FROM Employeelist\n",
        "'''\n",
        "\n",
        "cur.execute(SQL)\n",
        "\n",
        "Employeelist_df = pd.read_sql_query(SQL, con)\n",
        "\n",
        "# Handle missing values\n",
        "Employeelist_df.dropna(subset=['lastName'], inplace=True)\n",
        "\n",
        "# Handle inconsistent values\n",
        "Employeelist_df['lastName'] = Employeelist_df['lastName'].str.lower()\n",
        "Employeelist_df.head(20)\n"
      ],
      "metadata": {
        "id": "7l5Nh0ZNOtwV"
      },
      "execution_count": null,
      "outputs": []
    },
    {
      "cell_type": "code",
      "source": [
        "import pandas as pd\n",
        "\n",
        "# Load SQL query here ...\n",
        "\n",
        "SQL = '''\n",
        "SELECT * FROM message\n",
        "'''\n",
        "\n",
        "cur.execute(SQL)\n",
        "\n",
        "message_df = pd.read_sql_query(SQL, con)\n",
        "\n",
        "# Handle missing values\n",
        "message_df.dropna(subset=['sender'], inplace=True)\n",
        "\n",
        "# Handle inconsistent values\n",
        "message_df['sender'] = message_df['sender'].str.lower()\n",
        "message_df.head()"
      ],
      "metadata": {
        "id": "d9H0heV0mdsI"
      },
      "execution_count": null,
      "outputs": []
    },
    {
      "cell_type": "code",
      "source": [
        "import pandas as pd\n",
        "\n",
        "# Load your data into a DataFrame\n",
        "SQL='''\n",
        "SELECT * FROM Employeelist\n",
        "\n",
        "'''\n",
        "cur.execute(SQL)\n",
        "\n",
        "# Calculate the count of missing values and percentage\n",
        "missing_values_count = df.isnull().sum()\n",
        "percentage_missing_values = (missing_values_count / len(df)) * 100\n",
        "\n",
        "# Print the percentage of missing values\n",
        "print(percentage_missing_values)\n"
      ],
      "metadata": {
        "id": "RZLpuHyQih6p"
      },
      "execution_count": null,
      "outputs": []
    }
  ]
}