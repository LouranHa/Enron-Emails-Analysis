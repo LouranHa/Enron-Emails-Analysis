{
  "nbformat": 4,
  "nbformat_minor": 0,
  "metadata": {
    "colab": {
      "private_outputs": true,
      "provenance": [],
      "authorship_tag": "ABX9TyP27rY3ltcghdxOuz2vN9KF",
      "include_colab_link": true
    },
    "kernelspec": {
      "name": "python3",
      "display_name": "Python 3"
    },
    "language_info": {
      "name": "python"
    }
  },
  "cells": [
    {
      "cell_type": "markdown",
      "metadata": {
        "id": "view-in-github",
        "colab_type": "text"
      },
      "source": [
        "<a href=\"https://colab.research.google.com/github/LouranHa/isys2001-assignment-demo/blob/main/Notebooke2.ipynb\" target=\"_parent\"><img src=\"https://colab.research.google.com/assets/colab-badge.svg\" alt=\"Open In Colab\"/></a>"
      ]
    },
    {
      "cell_type": "code",
      "execution_count": null,
      "metadata": {
        "id": "dieub2Db-eOP"
      },
      "outputs": [],
      "source": [
        "#here is how I download the data\n",
        "!wget -O enron.db https://curtin-my.sharepoint.com/:u:/g/personal/211934g_curtin_edu_au/EaYagsqa2r1Bi5wtHbswGFwBH2kd2uTnz6rlka7GI36GUQ?download=1"
      ]
    },
    {
      "cell_type": "code",
      "source": [
        "#here is how I connect to the databases\n",
        "import sqlite3\n",
        "con = sqlite3.connect('enron.db')\n",
        "cur = con.cursor()"
      ],
      "metadata": {
        "id": "r0Nhgxt1-m5f"
      },
      "execution_count": null,
      "outputs": []
    },
    {
      "cell_type": "code",
      "source": [
        "import pandas as pd\n",
        "import sqlite3\n",
        "\n",
        "# Establish a connection to the SQLite database\n",
        "conn = sqlite3.connect('your_database.db')\n",
        "\n",
        "# Write an SQL query to extract the desired information\n",
        "query = '''\n",
        "SELECT sender, rvalue AS recipient, date, subject, body\n",
        "FROM Message m\n",
        "JOIN Recipientinfo r ON m.mid = r.mid\n",
        "'''\n",
        "\n",
        "# Execute the query and load the results into a DataFrame\n",
        "df = pd.read_sql_query(query, con)\n",
        "\n",
        "# Close the database connection\n",
        "conn.close()\n",
        "# Now you can work with the DataFrame\n",
        "print()\n",
        "\n",
        "# Perform further analysis or manipulate the DataFrame as needed\n",
        "# For example, you can access specific columns like df['sender'], df['date'], etc.\n"
      ],
      "metadata": {
        "id": "xpjUZOVN_JuA"
      },
      "execution_count": null,
      "outputs": []
    },
    {
      "cell_type": "code",
      "source": [
        "#here us how i load a table \n",
        "SQL='''\n",
        "SELECT * FROM Employeelist\n",
        "\n",
        "'''\n",
        "cur.execute(SQL)\n",
        "\n",
        "import pandas as pd\n",
        "Employeelist_df = pd.read_sql_query(SQL, con)\n",
        "Employeelist_df\n"
      ],
      "metadata": {
        "id": "OFLjy9HtHUsx"
      },
      "execution_count": null,
      "outputs": []
    },
    {
      "cell_type": "code",
      "source": [
        "import re\n",
        "\n",
        "def clean(text):\n",
        "    ''' Uses regular expression to extract English letters and digits from the supplied text. '''\n",
        "    regExp = \"(@[A-Za-z0-9]+)|([^0-9A-Za-z \\t])|(\\w+:\\/\\/\\S+)\"\n",
        "    return ' '.join(re.sub(regExp, \" \", text).split())\n",
        "\n",
        "# Load SQL query here ...\n",
        "\n",
        "SQL = '''\n",
        "SELECT * FROM Employeelist\n",
        "'''\n",
        "\n",
        "cur.execute(SQL)\n",
        "\n",
        "import pandas as pd\n",
        "message_df = pd.read_sql_query(SQL, con)\n",
        "\n",
        "# Apply the clean function to the 'text' column\n",
        "Employeelist_df['Clean Text'] = Employeelist_df['Email_id'].apply(clean)\n",
        "\n",
        "Employeelist_df.head()\n",
        "\n",
        "\n"
      ],
      "metadata": {
        "id": "qQFwujytGY8A"
      },
      "execution_count": null,
      "outputs": []
    },
    {
      "cell_type": "code",
      "source": [
        "import pandas as pd\n",
        "\n",
        "# Load SQL query here ...\n",
        "\n",
        "SQL = '''\n",
        "SELECT * FROM Employeelist\n",
        "'''\n",
        "\n",
        "cur.execute(SQL)\n",
        "\n",
        "Employeelist_df = pd.read_sql_query(SQL, con)\n",
        "\n",
        "# Handle missing values\n",
        "Employeelist_df.dropna(subset=['lastName'], inplace=True)\n",
        "\n",
        "# Handle inconsistent values\n",
        "Employeelist_df['lastName'] = Employeelist_df['lastName'].str.lower()\n",
        "Employeelist_df.head(20)\n"
      ],
      "metadata": {
        "id": "7l5Nh0ZNOtwV"
      },
      "execution_count": null,
      "outputs": []
    },
    {
      "cell_type": "code",
      "source": [
        "import pandas as pd\n",
        "\n",
        "# Load SQL query here ...\n",
        "\n",
        "SQL = '''\n",
        "SELECT * FROM message\n",
        "'''\n",
        "\n",
        "cur.execute(SQL)\n",
        "\n",
        "message_df = pd.read_sql_query(SQL, con)\n",
        "\n",
        "# Handle missing values\n",
        "message_df.dropna(subset=['sender'], inplace=True)\n",
        "\n",
        "# Handle inconsistent values\n",
        "message_df['sender'] = message_df['sender'].str.lower()\n",
        "message_df.head()"
      ],
      "metadata": {
        "id": "d9H0heV0mdsI"
      },
      "execution_count": null,
      "outputs": []
    },
    {
      "cell_type": "code",
      "source": [
        "import pandas as pd\n",
        "\n",
        "# Load your data into a DataFrame\n",
        "SQL='''\n",
        "SELECT * FROM Employeelist\n",
        "\n",
        "'''\n",
        "cur.execute(SQL)\n",
        "\n",
        "# Calculate the count of missing values and percentage\n",
        "missing_values_count = df.isnull().sum()\n",
        "percentage_missing_values = (missing_values_count / len(df)) * 100\n",
        "\n",
        "# Print the percentage of missing values\n",
        "print(percentage_missing_values)\n"
      ],
      "metadata": {
        "id": "RZLpuHyQih6p"
      },
      "execution_count": null,
      "outputs": []
    },
    {
      "cell_type": "markdown",
      "source": [
        "clean and preprocess the data"
      ],
      "metadata": {
        "id": "JxRSn6j1RKjI"
      }
    },
    {
      "cell_type": "code",
      "source": [
        "import sqlite3\n",
        "import pandas as pd\n",
        "import matplotlib.pyplot as plt\n",
        "import re\n",
        "\n",
        "# Connect to the Enron Email SQLite database\n",
        "conn = sqlite3.connect('enron.db')\n",
        "\n",
        "# SQL query to count the number of messages sent per month\n",
        "sql_query = '''\n",
        "SELECT strftime('%Y-%m', date) AS month, COUNT(*) AS message_count\n",
        "FROM Message\n",
        "GROUP BY month\n",
        "ORDER BY month\n",
        "'''\n",
        "\n",
        "# Execute the query and load results into a Pandas DataFrame\n",
        "df = pd.read_sql_query(sql_query, conn)\n",
        "\n",
        "# Define a cleaning function\n",
        "def clean_text(text):\n",
        "    cleaned_text = re.sub(r'[^a-zA-Z0-9\\s]', '', text)\n",
        "    cleaned_text = re.sub(r'\\s+', ' ', cleaned_text)\n",
        "    cleaned_text = cleaned_text.strip()\n",
        "    cleaned_text = cleaned_text.lower()\n",
        "    return cleaned_text\n",
        "\n",
        "# Apply cleaning function to the 'month' column\n",
        "df['month'] = df['month'].apply(clean_text)\n",
        "\n",
        "# Convert 'month' column to datetime format\n",
        "df['month'] = pd.to_datetime(df['month'])\n",
        "\n",
        "\n",
        "# Sort the DataFrame by 'month' column\n",
        "df.sort_values(by='month', inplace=True)\n",
        "\n",
        "# Set 'month' column as the DataFrame index\n",
        "df.set_index('month', inplace=True)\n",
        "\n",
        "# Plot the volume of emails sent over time\n",
        "plt.plot(df.index, df['message_count'])\n",
        "plt.xlabel('Time')\n",
        "plt.ylabel('Number of Messages')\n",
        "plt.title('Volume of Emails Sent Over Time (Per Month)')\n",
        "plt.xticks([], [])\n",
        "\n",
        "plt.grid(False)\n",
        "plt.show()\n",
        "\n",
        "# Close the database connection\n",
        "conn.close()\n"
      ],
      "metadata": {
        "id": "ZuQapwQQRJ9r"
      },
      "execution_count": null,
      "outputs": []
    },
    {
      "cell_type": "code",
      "source": [
        "import sqlite3\n",
        "\n",
        "# Connect to the Enron Email SQLite database\n",
        "conn = sqlite3.connect('enron.db')\n",
        "\n",
        "# Get the cursor object\n",
        "cur = conn.cursor()\n",
        "\n",
        "# Execute the PRAGMA command to retrieve the schema of the 'Message' table\n",
        "cur.execute(\"PRAGMA table_info(Message)\")\n",
        "\n",
        "# Fetch all the rows returned by the query\n",
        "rows = cur.fetchall()\n",
        "\n",
        "# Print the schema information\n",
        "for row in rows:\n",
        "    print(row)\n",
        "\n",
        "# Close the database connection\n",
        "conn.close()\n"
      ],
      "metadata": {
        "id": "hbn1IjfKn6Vp"
      },
      "execution_count": null,
      "outputs": []
    },
    {
      "cell_type": "code",
      "source": [
        "import sqlite3\n",
        "\n",
        "# Connect to the Enron Email SQLite database\n",
        "conn = sqlite3.connect('enron_email.db')\n",
        "\n",
        "# Create a cursor object to execute SQL queries\n",
        "cursor = conn.cursor()\n",
        "\n",
        "# Retrieve the list of tables in the database\n",
        "cursor.execute(\"SELECT name FROM sqlite_master WHERE type='table';\")\n",
        "tables = cursor.fetchall()\n",
        "\n",
        "# Print the table names\n",
        "for table in tables:\n",
        "    print(table[0])\n",
        "\n",
        "# Print a message indicating the loop is finished\n",
        "print(\"Table names retrieved successfully.\")\n",
        "\n",
        "# Close the database connection\n",
        "conn.close()\n",
        "\n",
        "\n"
      ],
      "metadata": {
        "id": "4cLZzip3rYNd"
      },
      "execution_count": null,
      "outputs": []
    },
    {
      "cell_type": "code",
      "source": [
        "import sqlite3\n",
        "import pandas as pd\n",
        "\n",
        "# Connect to the Enron Email SQLite database\n",
        "conn = sqlite3.connect('enron_email.db')\n",
        "\n",
        "# Create a cursor object to execute SQL queries\n",
        "cursor = conn.cursor()\n",
        "\n",
        "# Write SQL query to extract relevant information from the 'Message' table\n",
        "cursor.execute(\"SELECT name FROM sqlite_master WHERE type='table';\")\n",
        "tables = cursor.fetchall()\n",
        "\n",
        "# Fetch all rows from the query result\n",
        "rows = cursor.fetchall()\n",
        "\n",
        "# Load the query results into a DataFrame\n",
        "df = pd.DataFrame(rows, columns=[column[0] for column in cursor.description])\n",
        "\n",
        "# Perform data manipulation tasks on the DataFrame\n",
        "# Example: Filtering messages sent after a specific date\n",
        "filtered_df = df[df['date'] > '2002-01-01']\n",
        "\n",
        "# Example: Grouping messages by sender and calculating message count\n",
        "grouped_df = df.groupby('sender').size().reset_index(name='message_count')\n",
        "\n",
        "# Print the filtered DataFrame\n",
        "print(\"Filtered DataFrame:\")\n",
        "print(filtered_df)\n",
        "\n",
        "# Print the grouped DataFrame\n",
        "print(\"Grouped DataFrame:\")\n",
        "print(grouped_df)\n",
        "\n",
        "# Close the database connection\n",
        "conn.close()\n"
      ],
      "metadata": {
        "id": "aXhqSNNAucfK"
      },
      "execution_count": null,
      "outputs": []
    },
    {
      "cell_type": "code",
      "source": [
        "import pandas as pd\n",
        "import sqlite3\n",
        "\n",
        "# Connect to the Enron Email SQLite database\n",
        "conn = sqlite3.connect('enron_email.db')\n",
        "\n",
        "# Create a cursor object to execute SQL queries\n",
        "cursor = conn.cursor()\n",
        "\n",
        "# Write the SQL query\n",
        "SQL = '''\n",
        "SELECT * FROM Message\n",
        "'''\n",
        "\n",
        "# Execute the query and load results into a DataFrame\n",
        "message_df = pd.read_sql_query(SQL, conn)\n",
        "\n",
        "# Close the database connection\n",
        "conn.close()\n",
        "\n",
        "# Perform data manipulation tasks on the DataFrame\n",
        "# Example 1: Filtering\n",
        "filtered_df = message_df[message_df['sender'] == 'specific_value']\n",
        "\n",
        "# Example 2: Grouping and aggregation\n",
        "grouped_df = message_df.groupby('sender').size().reset_index(name='message_count')\n",
        "\n",
        "# Example 3: Aggregation\n",
        "max_length = message_df['message_length'].max()\n",
        "\n",
        "# Print the filtered DataFrame\n",
        "print(\"Filtered DataFrame:\")\n",
        "print(filtered_df.head())\n",
        "\n",
        "# Print the grouped DataFrame\n",
        "print(\"Grouped DataFrame:\")\n",
        "print(grouped_df.head())\n",
        "\n",
        "# Print the maximum message length\n",
        "print(\"Maximum message length:\", max_length)\n",
        "\n"
      ],
      "metadata": {
        "id": "wioOAnfFymYp"
      },
      "execution_count": null,
      "outputs": []
    },
    {
      "cell_type": "code",
      "source": [
        "import sqlite3\n",
        "import pandas as pd\n",
        "import matplotlib.pyplot as plt\n",
        "\n",
        "# Connect to the Enron Email SQLite database\n",
        "conn = sqlite3.connect('enron.db')\n",
        "\n",
        "# SQL query to count the number of messages sent per month\n",
        "sql_query = '''\n",
        "SELECT strftime('%Y-%m', date) AS month, COUNT(*) AS message_count\n",
        "FROM Message\n",
        "GROUP BY month\n",
        "ORDER BY month\n",
        "'''\n",
        "\n",
        "# Execute the query and load results into a Pandas DataFrame\n",
        "df = pd.read_sql_query(sql_query, conn)\n",
        "\n",
        "# Set the 'month' column as the DataFrame index\n",
        "df.set_index('month', inplace=True)\n",
        "\n",
        "# Create the time series line chart\n",
        "plt.plot(df.index, df['message_count'])\n",
        "plt.xlabel('Time')\n",
        "plt.ylabel('Number of Messages')\n",
        "plt.title('Volume of Emails Sent Over Time (Per Month)')\n",
        "\n",
        "# Display the plot\n",
        "plt.show()\n",
        "\n",
        "# Close the database connection\n",
        "conn.close()\n"
      ],
      "metadata": {
        "id": "af0Ivtz_dSJ-"
      },
      "execution_count": null,
      "outputs": []
    }
  ]
}