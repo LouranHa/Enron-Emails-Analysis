{
  "nbformat": 4,
  "nbformat_minor": 0,
  "metadata": {
    "colab": {
      "private_outputs": true,
      "provenance": [],
      "authorship_tag": "ABX9TyPwil0b/9iYFQQXIOJf94V0",
      "include_colab_link": true
    },
    "kernelspec": {
      "name": "python3",
      "display_name": "Python 3"
    },
    "language_info": {
      "name": "python"
    }
  },
  "cells": [
    {
      "cell_type": "markdown",
      "metadata": {
        "id": "view-in-github",
        "colab_type": "text"
      },
      "source": [
        "<a href=\"https://colab.research.google.com/github/LouranHa/isys2001-assignment-demo/blob/main/BUSINESS%20REPORT%20NOTEBOOK.ipynb\" target=\"_parent\"><img src=\"https://colab.research.google.com/assets/colab-badge.svg\" alt=\"Open In Colab\"/></a>"
      ]
    },
    {
      "cell_type": "code",
      "execution_count": null,
      "metadata": {
        "id": "4lL0BowKeeAD"
      },
      "outputs": [],
      "source": [
        "#here is how I download the data\n",
        "!wget -O enron.db https://curtin-my.sharepoint.com/:u:/g/personal/211934g_curtin_edu_au/EaYagsqa2r1Bi5wtHbswGFwBH2kd2uTnz6rlka7GI36GUQ?download=1"
      ]
    },
    {
      "cell_type": "code",
      "source": [
        "#here is how I connect to the databases\n",
        "import sqlite3\n",
        "con = sqlite3.connect('enron.db')\n",
        "cur = con.cursor()"
      ],
      "metadata": {
        "id": "zTvqufvaelWZ"
      },
      "execution_count": null,
      "outputs": []
    },
    {
      "cell_type": "code",
      "source": [
        "#here us how i load a table \n",
        "SQL='''\n",
        "SELECT * FROM Message\n",
        "\n",
        "'''\n",
        "cur.execute(SQL)"
      ],
      "metadata": {
        "id": "waohKaIOe-yy"
      },
      "execution_count": null,
      "outputs": []
    },
    {
      "cell_type": "code",
      "source": [
        "#wait there is an easier way\n",
        "import pandas as pd\n",
        "employee_df = pd.read_sql_query(SQL, con)\n",
        "employee_df"
      ],
      "metadata": {
        "id": "QWqVbfLvgUsL"
      },
      "execution_count": null,
      "outputs": []
    },
    {
      "cell_type": "code",
      "source": [
        "import pandas as pd\n",
        "message_df = pd.read_sql_query(SQL, con)\n",
        "message_df"
      ],
      "metadata": {
        "id": "LPNyovY_hJMO"
      },
      "execution_count": null,
      "outputs": []
    },
    {
      "cell_type": "code",
      "source": [
        "!curl -Ol https://raw.githubusercontent.com/michael-borck/isys2001-worksheets/main/stopwords.py\n",
        "# Libraries\n",
        "from wordcloud import WordCloud\n",
        "import matplotlib.pyplot as plt\n",
        "from stopwords import ENGLISH_STOP_WORDS\n",
        "\n",
        "# Get all the messages\n",
        "messages = ' '.join(message_df['body'])\n",
        "\n",
        "#stop_words = ENGLISH_STOP_WORDS.add(search_term)    \n",
        "# Create the wordcloud object\n",
        "wordcloud = WordCloud(width=680, height=480, margin=0, \n",
        "                      stopwords=ENGLISH_STOP_WORDS).generate(messages)\n",
        "\n",
        "# Display the generated image:\n",
        "plt.imshow(wordcloud, interpolation='bilinear')\n",
        "plt.axis(\"off\")\n",
        "plt.margins(x=0, y=0)\n",
        "plt.show()"
      ],
      "metadata": {
        "id": "DN6MEMmZhtyl"
      },
      "execution_count": null,
      "outputs": []
    },
    {
      "cell_type": "markdown",
      "source": [
        "this code for Email Traffic Over Time\n"
      ],
      "metadata": {
        "id": "enDRwY-15o0I"
      }
    },
    {
      "cell_type": "code",
      "source": [
        "import sqlite3\n",
        "import pandas as pd\n",
        "import matplotlib.pyplot as plt\n",
        "\n",
        "# Connect to the Enron Email SQLite database\n",
        "conn = sqlite3.connect('enron.db')\n",
        "\n",
        "# SQL query to count the number of messages sent per day\n",
        "sql_query = '''\n",
        "SELECT date, COUNT(*) AS message_count\n",
        "FROM Message\n",
        "GROUP BY date\n",
        "ORDER BY date\n",
        "'''\n",
        "\n",
        "# Execute the query and load results into a Pandas DataFrame\n",
        "df = pd.read_sql_query(sql_query, conn)\n",
        "\n",
        "# Convert the 'date' column to datetime format\n",
        "df['date'] = pd.to_datetime(df['date'], errors='coerce')\n",
        "# Set the 'date' column as the DataFrame index\n",
        "df.set_index('date', inplace=True)\n",
        "\n",
        "# Resample the data to count messages per week or month\n",
        "resampled_df = df.resample('M').sum()  # 'W' for weekly, 'M' for monthly\n",
        "\n",
        "# Plot the volume of emails sent over time\n",
        "plt.plot(resampled_df.index, resampled_df['message_count'])\n",
        "plt.xlabel('Time')\n",
        "plt.ylabel('Number of Messages')\n",
        "plt.title('Volume of Emails Sent Over Time')\n",
        "plt.xticks(rotation=45)\n",
        "plt.grid(True)\n",
        "plt.show()\n",
        "\n",
        "# Close the database connection\n",
        "conn.close()\n"
      ],
      "metadata": {
        "id": "XMlcmCVMtMQP"
      },
      "execution_count": null,
      "outputs": []
    },
    {
      "cell_type": "code",
      "source": [
        "import sqlite3\n",
        "import pandas as pd\n",
        "import matplotlib.pyplot as plt\n",
        "\n",
        "# Connect to the Enron Email SQLite database\n",
        "conn = sqlite3.connect('enron.db')\n",
        "\n",
        "# SQL query to count the number of messages sent per day\n",
        "sql_query = '''\n",
        "SELECT SUBSTR(date, 1, 10) AS date, COUNT(*) AS message_count\n",
        "FROM Message\n",
        "GROUP BY date\n",
        "ORDER BY date\n",
        "'''\n",
        "\n",
        "# Execute the query and load results into a Pandas DataFrame\n",
        "df = pd.read_sql_query(sql_query, conn)\n",
        "\n",
        "# Convert the 'date' column to datetime format\n",
        "df['date'] = pd.to_datetime(df['date'], errors='coerce')\n",
        "\n",
        "# Set the 'date' column as the DataFrame index\n",
        "df.set_index('date', inplace=True)\n",
        "\n",
        "# Plot the time series line chart\n",
        "plt.plot(df.index, df['message_count'])\n",
        "plt.xlabel('Time')\n",
        "plt.ylabel('Number of Emails')\n",
        "plt.title('Emails Sent Over Time')\n",
        "plt.xticks(rotation=45)\n",
        "plt.grid(True)\n",
        "plt.show()\n",
        "\n",
        "# Close the database connection\n",
        "conn.close()\n"
      ],
      "metadata": {
        "id": "J2i9vBxkvBTK"
      },
      "execution_count": null,
      "outputs": []
    },
    {
      "cell_type": "markdown",
      "source": [
        "this code presents for  Email Traffic Over Time"
      ],
      "metadata": {
        "id": "9kfpKZF2551f"
      }
    },
    {
      "cell_type": "code",
      "source": [
        "import sqlite3\n",
        "import pandas as pd\n",
        "\n",
        "# Connect to the Enron Email SQLite database\n",
        "conn = sqlite3.connect('enron.db')\n",
        "\n",
        "# SQL query to retrieve the sender and recipient information\n",
        "sql_query = '''\n",
        "SELECT sender AS email, COUNT(*) AS frequency\n",
        "FROM Message\n",
        "GROUP BY email\n",
        "ORDER BY frequency DESC\n",
        "LIMIT 5\n",
        "'''\n",
        "\n",
        "# Execute the query and load results into a Pandas DataFrame\n",
        "df_senders = pd.read_sql_query(sql_query, conn)\n",
        "\n",
        "# SQL query to retrieve the recipient information\n",
        "sql_query = '''\n",
        "SELECT rvalue AS email, COUNT(*) AS frequency\n",
        "FROM Recipientinfo\n",
        "GROUP BY email\n",
        "ORDER BY frequency DESC\n",
        "LIMIT 5\n",
        "'''\n",
        "\n",
        "# Execute the query and load results into another Pandas DataFrame\n",
        "df_recipients = pd.read_sql_query(sql_query, conn)\n",
        "\n",
        "# Close the database connection\n",
        "conn.close()\n",
        "\n",
        "# Print the most frequent email senders\n",
        "print(\"Most Frequent Email Senders:\")\n",
        "print(df_senders)\n",
        "\n",
        "# Print the most frequent email recipients\n",
        "print(\"\\nMost Frequent Email Recipients:\")\n",
        "print(df_recipients)\n"
      ],
      "metadata": {
        "id": "8aTraeFFwS1n"
      },
      "execution_count": null,
      "outputs": []
    },
    {
      "cell_type": "markdown",
      "source": [
        "this one is creating two horizontal bar charts"
      ],
      "metadata": {
        "id": "IhNkRka_zbOo"
      }
    },
    {
      "cell_type": "code",
      "source": [
        "import matplotlib.pyplot as plt\n",
        "\n",
        "# Create the figure and axes for the subplots\n",
        "fig, axes = plt.subplots(1, 2, figsize=(10, 6))\n",
        "\n",
        "# Set the data for the top senders chart\n",
        "senders_data = df_senders.sort_values('frequency', ascending=True)\n",
        "senders_names = senders_data['email']\n",
        "senders_frequency = senders_data['frequency']\n",
        "\n",
        "# Plot the top senders chart\n",
        "axes[0].barh(senders_names, senders_frequency)\n",
        "axes[0].set_title('Top Senders')\n",
        "axes[0].set_xlabel('Number of Emails')\n",
        "axes[0].set_ylabel('Employees')\n",
        "\n",
        "# Set the data for the top recipients chart\n",
        "recipients_data = df_recipients.sort_values('frequency', ascending=True)\n",
        "recipients_names = recipients_data['email']\n",
        "recipients_frequency = recipients_data['frequency']\n",
        "\n",
        "# Plot the top recipients chart\n",
        "axes[1].barh(recipients_names, recipients_frequency)\n",
        "axes[1].set_title('Top Recipients')\n",
        "axes[1].set_xlabel('Number of Emails')\n",
        "axes[1].set_ylabel('Employees')\n",
        "\n",
        "# Adjust the layout and spacing\n",
        "plt.tight_layout()\n",
        "\n",
        "# Display the charts\n",
        "plt.show()\n"
      ],
      "metadata": {
        "id": "AAmavhT_za25"
      },
      "execution_count": null,
      "outputs": []
    },
    {
      "cell_type": "markdown",
      "source": [
        "this code is Email Distribution by Recipient Type"
      ],
      "metadata": {
        "id": "lehBAV2u6IrP"
      }
    },
    {
      "cell_type": "code",
      "source": [
        "import pandas as pd\n",
        "import matplotlib.pyplot as plt\n",
        "\n",
        "# Write an SQL query to extract the recipient types and their counts\n",
        "query = \"SELECT rtype, COUNT(*) AS count FROM Recipientinfo GROUP BY rtype\"\n",
        "\n",
        "# Execute the query and load the results into a DataFrame\n",
        "df_recipient_types = pd.read_sql_query(query, con)\n",
        "\n",
        "# Plot the distribution of emails by recipient type\n",
        "plt.bar(df_recipient_types['rtype'], df_recipient_types['count'])\n",
        "plt.xlabel('Recipient Type')\n",
        "plt.ylabel('Number of Emails')\n",
        "plt.title('Distribution of Emails by Recipient Type')\n",
        "plt.show()\n"
      ],
      "metadata": {
        "id": "oi4PDkIc2U9M"
      },
      "execution_count": null,
      "outputs": []
    },
    {
      "cell_type": "markdown",
      "source": [
        "Creating a pie chart"
      ],
      "metadata": {
        "id": "Wnp9mUEN4IJs"
      }
    },
    {
      "cell_type": "code",
      "source": [
        "import pandas as pd\n",
        "import matplotlib.pyplot as plt\n",
        "\n",
        "# Write an SQL query to extract the recipient types and their counts\n",
        "query = \"SELECT rtype, COUNT(*) AS count FROM Recipientinfo GROUP BY rtype\"\n",
        "\n",
        "# Execute the query and load the results into a DataFrame\n",
        "df_recipient_types = pd.read_sql_query(query, con)\n",
        "\n",
        "# Create a pie chart\n",
        "plt.figure(figsize=(8, 6))\n",
        "plt.pie(df_recipient_types['count'], labels=df_recipient_types['rtype'], autopct='%1.1f%%')\n",
        "plt.title('Proportion of Emails by Recipient Type')\n",
        "plt.show()\n",
        "\n"
      ],
      "metadata": {
        "id": "K7jDI7Uf4Ie9"
      },
      "execution_count": null,
      "outputs": []
    },
    {
      "cell_type": "markdown",
      "source": [
        "creating stacked bar chart"
      ],
      "metadata": {
        "id": "eQGZPhqi6dGf"
      }
    },
    {
      "cell_type": "code",
      "source": [
        "# Create a stacked bar chart\n",
        "plt.figure(figsize=(8, 6))\n",
        "plt.bar(df_recipient_types['rtype'], df_recipient_types['count'])\n",
        "plt.xlabel('Recipient Type')\n",
        "plt.ylabel('Number of Emails')\n",
        "plt.title('Proportion of Emails by Recipient Type')\n",
        "plt.show()\n"
      ],
      "metadata": {
        "id": "ZubLQw7a4TyF"
      },
      "execution_count": null,
      "outputs": []
    }
  ]
}