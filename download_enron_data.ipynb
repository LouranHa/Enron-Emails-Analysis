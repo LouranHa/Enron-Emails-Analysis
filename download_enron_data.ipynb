{
  "cells": [
    {
      "cell_type": "markdown",
      "metadata": {
        "id": "view-in-github",
        "colab_type": "text"
      },
      "source": [
        "<a href=\"https://colab.research.google.com/github/LouranHa/isys2001-assignment-demo/blob/main/download_enron_data.ipynb\" target=\"_parent\"><img src=\"https://colab.research.google.com/assets/colab-badge.svg\" alt=\"Open In Colab\"/></a>"
      ]
    },
    {
      "cell_type": "markdown",
      "source": [
        "# Downloading Enron Email Data\n",
        "\n",
        "\n",
        "\n",
        "### Full/Complete Dataset\n",
        "\n",
        "The following code-cell will download the complete Enron email database to the Colab instance.  It will take about 1-2 mins to download."
      ],
      "metadata": {
        "id": "_6s_eJ_LyO1i"
      }
    },
    {
      "cell_type": "code",
      "execution_count": null,
      "metadata": {
        "id": "lIYdn1woOS1n"
      },
      "outputs": [],
      "source": [
        "!wget -O enron.db https://curtin-my.sharepoint.com/:u:/g/personal/211934g_curtin_edu_au/EaYagsqa2r1Bi5wtHbswGFwBH2kd2uTnz6rlka7GI36GUQ?download=1"
      ]
    },
    {
      "cell_type": "markdown",
      "source": [
        "### Extract/Partial Dataset\n",
        "\n",
        "If copying the complete dataset take a long time.  During development use the following smaller extract of the data.\n",
        "\n",
        "The following code-cell will download an *extract* of the  Enron email database to the Colab instance.  It will take about 10-20 seconds to download."
      ],
      "metadata": {
        "id": "qkVUtuPQygCm"
      }
    },
    {
      "cell_type": "code",
      "source": [
        "!wget -O extract.db https://curtin-my.sharepoint.com/:u:/g/personal/211934g_curtin_edu_au/EbNeFqkc_g1EmQZzAKqc_w8BYeUTUVyexiSsmDbZb1EqAQ?download=1"
      ],
      "metadata": {
        "id": "xLmWEuKvwYW5"
      },
      "execution_count": null,
      "outputs": []
    },
    {
      "cell_type": "markdown",
      "source": [
        "# SQLite3 Support Tools\n",
        "\n",
        "Some tools to inspect the database (*Not needed for assignment*)\n",
        "\n",
        "* [DB Browser for SQLite3](https://sqlitebrowser.org/)\n",
        "* [SQLiteStudio](https://sqlitestudio.pl/)"
      ],
      "metadata": {
        "id": "fsI4xqh516rR"
      }
    }
  ],
  "metadata": {
    "colab": {
      "name": "download_enron_data.ipynb",
      "provenance": [],
      "include_colab_link": true
    },
    "kernelspec": {
      "display_name": "Python 3",
      "name": "python3"
    }
  },
  "nbformat": 4,
  "nbformat_minor": 0
}