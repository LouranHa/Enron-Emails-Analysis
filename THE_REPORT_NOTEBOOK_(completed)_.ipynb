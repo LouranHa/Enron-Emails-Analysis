{
  "nbformat": 4,
  "nbformat_minor": 0,
  "metadata": {
    "colab": {
      "private_outputs": true,
      "provenance": [],
      "authorship_tag": "ABX9TyMPWpK7+L6yvss9blCC9okN",
      "include_colab_link": true
    },
    "kernelspec": {
      "name": "python3",
      "display_name": "Python 3"
    },
    "language_info": {
      "name": "python"
    }
  },
  "cells": [
    {
      "cell_type": "markdown",
      "metadata": {
        "id": "view-in-github",
        "colab_type": "text"
      },
      "source": [
        "<a href=\"https://colab.research.google.com/github/LouranHa/isys2001-assignment-demo/blob/main/THE_REPORT_NOTEBOOK_(completed)_.ipynb\" target=\"_parent\"><img src=\"https://colab.research.google.com/assets/colab-badge.svg\" alt=\"Open In Colab\"/></a>"
      ]
    },
    {
      "cell_type": "markdown",
      "source": [
        "#NoteBook as Business Report\n",
        "#ISYS2001 Introduction To Business Programming\n",
        "#Thi Kieu Oanh Ha - 21131606\n",
        "#Friday, 26th May 2022 (23:59)"
      ],
      "metadata": {
        "id": "o-SISpKHeZeC"
      }
    },
    {
      "cell_type": "markdown",
      "source": [
        "#**Enron Emails Analysis**"
      ],
      "metadata": {
        "id": "Xr4gH0EEU7-F"
      }
    },
    {
      "cell_type": "markdown",
      "source": [
        "##Introduction\n",
        "\n",
        "\n",
        "Once a powerhouse in the energy, commodities, and services industries, the\n",
        "Enron Corporation fell from grace in a spectacular display of corporate fraud and corruption that has become legendary. With a market value of over $70 billion at its peak, Enron was one of the largest companies in the United States. The company was formed in 1985 through a merger. A complex web of fraudulent accounting practises and financial misconduct lay beneath Enron's apparent success. One of the most infamous corporate bankruptcies in American history occurred when the truth about Enron's fraudulent activities became public in 2001. The Enron scandal had far-reaching effects, including a devastating effect on investor confidence, the introduction of new regulations, and a fundamental shift in how corporate governance is viewed in the public's mind. The purpose of this case study is to examine the Enron Mail dataset, which consists of emails sent and received by Enron executives, employees, and associates, in order to learn more about the company's internal communication dynamics and identify areas of potential investigation. This analysis employs Python programming and data analysis techniques in an effort to elucidate the Enron scandal, investigate SQLite databases, visualise data, and follow programming best practises."
      ],
      "metadata": {
        "id": "zE0YkeDMUTy_"
      }
    },
    {
      "cell_type": "markdown",
      "source": [
        "##Code"
      ],
      "metadata": {
        "id": "t8lxFAAKUrEf"
      }
    },
    {
      "cell_type": "markdown",
      "source": [
        "I am using wget to download the enron.db file from the provided URL and save it locally with the same name. The file is likely an SQLite database file that contains the data for the Enron Email dataset used in the subsequent code."
      ],
      "metadata": {
        "id": "rLbbjnETjUst"
      }
    },
    {
      "cell_type": "code",
      "execution_count": null,
      "metadata": {
        "id": "iAVNpKeRe9QV"
      },
      "outputs": [],
      "source": [
        "!wget -O enron.db https://curtin-my.sharepoint.com/:u:/g/personal/211934g_curtin_edu_au/EaYagsqa2r1Bi5wtHbswGFwBH2kd2uTnz6rlka7GI36GUQ?download=1"
      ]
    },
    {
      "cell_type": "markdown",
      "source": [
        "to establish a connection to an SQLite database file named enron.db and creates a cursor object to interact with the database by using the below codes. This connection and cursor can be used to execute SQL queries and retrieve data from the Enron Email dataset stored in the enron.db database."
      ],
      "metadata": {
        "id": "A7PWIAksjT2V"
      }
    },
    {
      "cell_type": "code",
      "source": [
        "import sqlite3\n",
        "con = sqlite3.connect('enron.db')\n",
        "cur = con.cursor()"
      ],
      "metadata": {
        "id": "dFD15rC-lPop"
      },
      "execution_count": null,
      "outputs": []
    },
    {
      "cell_type": "markdown",
      "source": [
        "here is how I fetch the data from the specified table (EX: Recipient Info) in the connected SQLite database and store it in a pandas DataFrame for further analysis or processing."
      ],
      "metadata": {
        "id": "vUR_DBJnlTXZ"
      }
    },
    {
      "cell_type": "code",
      "source": [
        "SQL='''\n",
        "SELECT * FROM message\n",
        "\n",
        "'''\n",
        "cur.execute(SQL)\n",
        "\n",
        "import pandas as pd\n",
        "message_df = pd.read_sql_query(SQL, con)\n",
        "message_df.head()"
      ],
      "metadata": {
        "id": "yd02m1WTmleC"
      },
      "execution_count": null,
      "outputs": []
    },
    {
      "cell_type": "markdown",
      "source": [
        "I want to understand the structure of the tables, including the column names, data types, primary keys, and other constraints.So I need to examine the schema of the database by using the \"PRAGMA table_info(table_name)\" command to get the schema of a table which I asked the chat GPT.To be more specific, I will examine the schema of the 'Message' table as an example."
      ],
      "metadata": {
        "id": "E_NiuPgNnF-4"
      }
    },
    {
      "cell_type": "code",
      "source": [
        "import sqlite3\n",
        "\n",
        "# Connect to the Enron Email SQLite database\n",
        "conn = sqlite3.connect('enron.db')\n",
        "\n",
        "# Get the cursor object\n",
        "cur = conn.cursor()\n",
        "\n",
        "# Execute the PRAGMA command to retrieve the schema of the 'Message' table\n",
        "cur.execute(\"PRAGMA table_info(Message)\")\n",
        "\n",
        "# Fetch all the rows returned by the query\n",
        "rows = cur.fetchall()\n",
        "\n",
        "# Print the schema information\n",
        "for row in rows:\n",
        "    print(row)\n",
        "\n",
        "# Close the database connection\n",
        "conn.close()\n"
      ],
      "metadata": {
        "id": "wtuU8DyVprAL"
      },
      "execution_count": null,
      "outputs": []
    },
    {
      "cell_type": "markdown",
      "source": [
        "to write an SQL query to extract relevant information from a table and use Pandas to load the query results into a DataFrame, I also use the way how to load a table \n",
        "\n",
        "```\n",
        "SQL='''\n",
        "SELECT * FROM message\n",
        "\n",
        "'''\n",
        "cur.execute(SQL)\n",
        "\n",
        "import pandas as pd\n",
        "message_df = pd.read_sql_query(SQL, con)\n",
        "message_df.head()\n",
        "```\n",
        "In this code, I define the SQL query you want to execute, which in this case selects all columns ('*') from the Message table. Then, I execute the query using the cursor's execute() method. After that, I import the Pandas library and use the 'read_sql_query()' function to load the query results into a DataFrame named 'message_df'. Finally, I display the first few rows of the DataFrame using the 'head()' method.\n",
        "\n",
        "\n",
        "I can try to run on table Recipientinfo as shown below code\n"
      ],
      "metadata": {
        "id": "rwZeltTFqbrZ"
      }
    },
    {
      "cell_type": "code",
      "source": [
        "import pandas as pd\n",
        "import sqlite3\n",
        "\n",
        "# Connect to the database\n",
        "conn = sqlite3.connect('enron.db')\n",
        "\n",
        "# Write your SQL query\n",
        "sql_query = \"SELECT * FROM message\"\n",
        "\n",
        "# Load query results into a DataFrame\n",
        "message_df = pd.read_sql_query(sql_query, conn)\n",
        "\n",
        "# Close the database connection\n",
        "conn.close()\n",
        "\n",
        "# Now you can work with the DataFrame\n",
        "print(message_df.head())\n"
      ],
      "metadata": {
        "id": "un8ahaGa7DFv"
      },
      "execution_count": null,
      "outputs": []
    },
    {
      "cell_type": "markdown",
      "source": [
        "The above code itself which doesn't demonstrate any specific data manipulation tasks only retrieves data from the 'message' table in the SQLite database and loads it into a DataFrame. However, it sets up the foundation for performing those tasks. Once I have the data in the message_df DataFrame, I can apply various pandas functions and methods to manipulate the data as needed.\n",
        "\n"
      ],
      "metadata": {
        "id": "Z46J5O3G7-0H"
      }
    },
    {
      "cell_type": "markdown",
      "source": [
        "## Analyses and Visualisation"
      ],
      "metadata": {
        "id": "U528H_lsXSWj"
      }
    },
    {
      "cell_type": "markdown",
      "source": [
        " Examining Enron's internal dynamics and patterns can be aided by studying the company's communication and organisational structure. To learn more about how Enron communicated, one can use a number of different types of analyses and visualisations. To analyse email traffic over time, I can keep track of how many messages are sent on a daily, weekly, or monthly basis. By plotting this information as a time series line chart, we can see if there are any peaks or valleys in communication that might indicate significant events or trends. Moreover, one more area to investigate is finding the most prolific email senders and receivers. By combining information from the 'Message' and 'Recipientinfo' tables, I can identify the employees who are the organization's most active email senders and receivers. Horizontal bar charts effectively summarise the most influential people in Enron's communication network. In addition, it is essential to know how emails are distributed based on the different types of recipients. The 'rtype' column in the 'Recipientinfo' table can be examined to determine whether an email was sent to the \"to,\" \"cc,\" or \"bcc\" addresses. I can evaluate how open, collaborative, and transparent Enron's communication practises are by comparing the percentage of emails sent to different recipient types using a pie chart or stacked bar chart."
      ],
      "metadata": {
        "id": "LVxeR9JgZnHu"
      }
    },
    {
      "cell_type": "markdown",
      "source": [
        "### Email Traffic Over Time"
      ],
      "metadata": {
        "id": "yTd24-zSXZ30"
      }
    },
    {
      "cell_type": "markdown",
      "source": [
        "This code snippet performs a data query and manipulation operation on the Enron Email SQLite database to count the number of messages sent per month"
      ],
      "metadata": {
        "id": "Ifi4cc0aa2fO"
      }
    },
    {
      "cell_type": "code",
      "source": [
        "import sqlite3\n",
        "import pandas as pd\n",
        "import matplotlib.pyplot as plt\n",
        "\n",
        "# Connect to the Enron Email SQLite database\n",
        "conn = sqlite3.connect('enron.db')\n",
        "\n",
        "# SQL query to count the number of messages sent per month\n",
        "sql_query = '''\n",
        "SELECT strftime('%Y-%m', date) AS month, COUNT(*) AS message_count\n",
        "FROM Message\n",
        "GROUP BY month\n",
        "ORDER BY month\n",
        "'''\n",
        "\n",
        "# Execute the query and load results into a Pandas DataFrame\n",
        "df = pd.read_sql_query(sql_query, conn)\n",
        "\n",
        "# Set the 'month' column as the DataFrame index\n",
        "df.set_index('month', inplace=True)"
      ],
      "metadata": {
        "id": "a61T4Lr-PMTe"
      },
      "execution_count": null,
      "outputs": []
    },
    {
      "cell_type": "markdown",
      "source": [
        "Im using Matplotlib to represent the volume of emails sent over time which generates a line plot"
      ],
      "metadata": {
        "id": "sX0EpVmWbHuM"
      }
    },
    {
      "cell_type": "code",
      "source": [
        "# Plot the volume of emails sent over time\n",
        "plt.plot(df.index, df['message_count'])\n",
        "plt.xlabel('Time')\n",
        "plt.ylabel('Number of Messages')\n",
        "plt.title('Volume of Emails Sent Over Time (Per Month)')\n",
        "plt.xticks([],[])\n",
        "\n",
        "plt.grid(False)\n",
        "plt.show()\n",
        "\n",
        "# Close the database connection\n",
        "conn.close()\n"
      ],
      "metadata": {
        "id": "IiOFfLDqcJTy"
      },
      "execution_count": null,
      "outputs": []
    },
    {
      "cell_type": "markdown",
      "source": [
        "The timeline chart above was faulty at the x-axis not showing the timeline. that's why i searched on GPT chat and i got below result"
      ],
      "metadata": {
        "id": "tawIOto-daU2"
      }
    },
    {
      "cell_type": "code",
      "source": [
        "import sqlite3\n",
        "import pandas as pd\n",
        "import matplotlib.pyplot as plt\n",
        "import matplotlib.dates as mdates\n",
        "\n",
        "# Connect to the Enron Email SQLite database\n",
        "conn = sqlite3.connect('enron.db')\n",
        "\n",
        "# SQL query to count the number of messages sent per month\n",
        "sql_query = '''\n",
        "SELECT strftime('%Y-%m', date) AS month, COUNT(*) AS message_count\n",
        "FROM Message\n",
        "GROUP BY month\n",
        "ORDER BY month\n",
        "'''\n",
        "\n",
        "# Execute the query and load results into a Pandas DataFrame\n",
        "df = pd.read_sql_query(sql_query, conn)\n",
        "\n",
        "# Set the 'month' column as the DataFrame index\n",
        "df.set_index('month', inplace=True)\n",
        "plt.figure(figsize=(15, 6))\n",
        "\n",
        "# Plot the volume of emails sent over time\n",
        "plt.plot(df.index, df['message_count'])\n",
        "plt.xlabel('Time')\n",
        "plt.ylabel('Number of Messages')\n",
        "plt.title('Volume of Emails Sent Over Time (Per Month)')\n",
        "\n",
        "# Format the x-axis to display month numbers\n",
        "plt.xticks(range(len(df.index)), df.index, rotation=90)\n",
        "\n",
        "plt.grid(False)\n",
        "plt.show()\n",
        "\n",
        "# Close the database connection\n",
        "conn.close()"
      ],
      "metadata": {
        "id": "smf_ntxRd__y"
      },
      "execution_count": null,
      "outputs": []
    },
    {
      "cell_type": "markdown",
      "source": [
        "####Cleaned Code\n",
        "Here's the code to clean and preprocess the data and visualize the volume of emails sent over time"
      ],
      "metadata": {
        "id": "t9JNb2kCd5XP"
      }
    },
    {
      "cell_type": "code",
      "source": [
        "import sqlite3\n",
        "import pandas as pd\n",
        "import matplotlib.pyplot as plt\n",
        "import matplotlib.dates as mdates\n",
        "\n",
        "# Connect to the Enron Email SQLite database\n",
        "conn = sqlite3.connect('enron.db')\n",
        "\n",
        "# SQL query to count the number of messages sent per month\n",
        "sql_query = '''\n",
        "SELECT strftime('%Y-%m', date) AS month, COUNT(*) AS message_count\n",
        "FROM Message\n",
        "GROUP BY month\n",
        "ORDER BY month\n",
        "'''\n",
        "\n",
        "# Execute the query and load results into a Pandas DataFrame\n",
        "df = pd.read_sql_query(sql_query, conn)\n",
        "\n",
        "# Close the database connection\n",
        "conn.close()\n",
        "\n",
        "# Plot the volume of emails sent over time\n",
        "plt.figure(figsize=(15, 6))\n",
        "plt.plot(df['month'], df['message_count'])\n",
        "plt.xlabel('Time')\n",
        "plt.ylabel('Number of Messages')\n",
        "plt.title('Volume of Emails Sent Over Time (Per Month)')\n",
        "\n",
        "# Format the x-axis as months\n",
        "plt.gca().xaxis.set_major_formatter(mdates.DateFormatter('%Y-%m'))\n",
        "plt.gca().xaxis.set_major_locator(mdates.MonthLocator())\n",
        "\n",
        "plt.grid(False)\n",
        "plt.show()\n"
      ],
      "metadata": {
        "id": "WaCSLcDjgahO"
      },
      "execution_count": null,
      "outputs": []
    },
    {
      "cell_type": "markdown",
      "source": [
        "Based on the above grapgh, insights into the dynamics of email communication within the Enron dataset can be gained by visualising the volume of emails sent over time using this analysis. To be more specific, The number of emails with the highest score between February and March reached nearly 30000. Therefore, it can aid in locating peaks in activity, illuminating patterns in communication, and providing a foundation for analysis and research into the Enron email dataset."
      ],
      "metadata": {
        "id": "joiBLU5jg_DR"
      }
    },
    {
      "cell_type": "markdown",
      "source": [
        "### Top senders and recipients"
      ],
      "metadata": {
        "id": "k3xnSoFAeNN9"
      }
    },
    {
      "cell_type": "markdown",
      "source": [
        "I will demonstrates how to retrieve and analyze the most frequent email senders and recipients from the Enron Email SQLite database using Python and Pandas\n",
        "\n",
        "With the below code, an SQL query is defined to retrieve the sender information from the 'Message' table. It selects the 'sender' column and counts the occurrences of each email address. The results are grouped by email address and sorted in descending order of frequency. The 'LIMIT 10' clause limits the results to the top 10 senders."
      ],
      "metadata": {
        "id": "ov-K6tFhepGM"
      }
    },
    {
      "cell_type": "code",
      "source": [
        "import sqlite3\n",
        "import pandas as pd\n",
        "\n",
        "# Connect to the Enron Email SQLite database\n",
        "conn = sqlite3.connect('enron.db')\n",
        "\n",
        "# SQL query to retrieve the sender and recipient information\n",
        "sql_query = '''\n",
        "SELECT sender AS email, COUNT(*) AS frequency\n",
        "FROM Message\n",
        "GROUP BY email\n",
        "ORDER BY frequency DESC\n",
        "LIMIT 10\n",
        "'''"
      ],
      "metadata": {
        "id": "F6c25xDgeWfc"
      },
      "execution_count": null,
      "outputs": []
    },
    {
      "cell_type": "markdown",
      "source": [
        "this part defines an SQL query to retrieve the recipient information from the 'Recipientinfo' table. It selects the 'rvalue' column (email address) and counts the occurrences of each email address. The results are grouped by email address, sorted by frequency in descending order, and limited to the top 10 recipients"
      ],
      "metadata": {
        "id": "CjQkIPXIfi4f"
      }
    },
    {
      "cell_type": "code",
      "source": [
        "# SQL query to retrieve the recipient information\n",
        "sql_query = '''\n",
        "SELECT rvalue AS email, COUNT(*) AS frequency\n",
        "FROM Recipientinfo\n",
        "GROUP BY email\n",
        "ORDER BY frequency DESC\n",
        "LIMIT 10\n",
        "'''\n",
        "\n",
        "# Execute the query and load results into another Pandas DataFrame\n",
        "df_recipients = pd.read_sql_query(sql_query, conn)\n"
      ],
      "metadata": {
        "id": "UHMQZT6DfoVc"
      },
      "execution_count": null,
      "outputs": []
    },
    {
      "cell_type": "markdown",
      "source": [
        "After retrieving the data and storing it in DataFrames, the database connection is closed. Finally, the code prints the top senders and recipients using the print() function.\n",
        "\n",
        "Here's a completed code."
      ],
      "metadata": {
        "id": "efJgj1QPfyXH"
      }
    },
    {
      "cell_type": "code",
      "source": [
        "import sqlite3\n",
        "import pandas as pd\n",
        "\n",
        "# Connect to the Enron Email SQLite database\n",
        "conn = sqlite3.connect('enron.db')\n",
        "\n",
        "# SQL query to retrieve the sender and recipient information\n",
        "sql_query = '''\n",
        "SELECT sender AS email, COUNT(*) AS frequency\n",
        "FROM Message\n",
        "GROUP BY email\n",
        "ORDER BY frequency DESC\n",
        "LIMIT 10\n",
        "'''\n",
        "\n",
        "# Execute the query and load results into a Pandas DataFrame\n",
        "df_senders = pd.read_sql_query(sql_query, conn)\n",
        "\n",
        "# SQL query to retrieve the recipient information\n",
        "sql_query = '''\n",
        "SELECT rvalue AS email, COUNT(*) AS frequency\n",
        "FROM Recipientinfo\n",
        "GROUP BY email\n",
        "ORDER BY frequency DESC\n",
        "LIMIT 10\n",
        "'''\n",
        "\n",
        "# Execute the query and load results into another Pandas DataFrame\n",
        "df_recipients = pd.read_sql_query(sql_query, conn)\n",
        "\n",
        "# Close the database connection\n",
        "conn.close()\n",
        "\n",
        "# Print the most frequent email senders\n",
        "print(\"Most Frequent Email Senders:\")\n",
        "print(df_senders)\n",
        "\n",
        "# Print the most frequent email recipients\n",
        "print(\"\\nMost Frequent Email Recipients:\")\n",
        "print(df_recipients)\n"
      ],
      "metadata": {
        "id": "wnEnFWxVgAxQ"
      },
      "execution_count": null,
      "outputs": []
    },
    {
      "cell_type": "markdown",
      "source": [
        "####cleaned code\n",
        "\n",
        "With the help of the finished code provided by chat GPT, I was able to successfully connect to the Enron Email SQLite database and retrieve the sender and recipient information by means of SQL queries. Two Pandas DataFrames (df senders and df recipients) are used to store the results. I then proceed to preprocess and clean the data further. In the provided example, I use the dropna() method to get rid of rows with null values and the str.lower() method to change the case of the email column. When processing is complete, the console receives the cleaned and preprocessed data."
      ],
      "metadata": {
        "id": "J3JpgS6FYarH"
      }
    },
    {
      "cell_type": "code",
      "source": [
        "import sqlite3\n",
        "import pandas as pd\n",
        "\n",
        "# Connect to the Enron Email SQLite database\n",
        "conn = sqlite3.connect('enron.db')\n",
        "\n",
        "# SQL query to retrieve the sender information\n",
        "sql_query_senders = '''\n",
        "SELECT sender AS email, COUNT(*) AS frequency\n",
        "FROM Message\n",
        "GROUP BY email\n",
        "ORDER BY frequency DESC\n",
        "LIMIT 10\n",
        "'''\n",
        "\n",
        "# Execute the query and load results into a Pandas DataFrame\n",
        "df_senders = pd.read_sql_query(sql_query_senders, conn)\n",
        "\n",
        "# SQL query to retrieve the recipient information\n",
        "sql_query_recipients = '''\n",
        "SELECT rvalue AS email, COUNT(*) AS frequency\n",
        "FROM Recipientinfo\n",
        "GROUP BY email\n",
        "ORDER BY frequency DESC\n",
        "LIMIT 10\n",
        "'''\n",
        "\n",
        "# Execute the query and load results into another Pandas DataFrame\n",
        "df_recipients = pd.read_sql_query(sql_query_recipients, conn)\n",
        "\n",
        "# Close the database connection\n",
        "conn.close()\n",
        "\n",
        "# Perform additional data cleaning or preprocessing steps\n",
        "# Example: Remove any rows with missing values\n",
        "df_senders.dropna(inplace=True)\n",
        "df_recipients.dropna(inplace=True)\n",
        "\n",
        "# Example: Convert email column to lowercase\n",
        "df_senders['email'] = df_senders['email'].str.lower()\n",
        "df_recipients['email'] = df_recipients['email'].str.lower()\n",
        "\n",
        "# Print the cleaned and preprocessed data\n",
        "print(\"Most Frequent Email Senders:\")\n",
        "print(df_senders)\n",
        "\n",
        "print(\"\\nMost Frequent Email Recipients:\")\n",
        "print(df_recipients)\n",
        "\n"
      ],
      "metadata": {
        "id": "naxfGG00Y9EC"
      },
      "execution_count": null,
      "outputs": []
    },
    {
      "cell_type": "markdown",
      "source": [
        "This code snippet demonstrates how to create 2 horizontal bar charts with subplots using Matplotlib."
      ],
      "metadata": {
        "id": "LDqLioBAhIDu"
      }
    },
    {
      "cell_type": "code",
      "source": [
        "import matplotlib.pyplot as plt\n",
        "\n",
        "# Create the figure and axes for the subplots\n",
        "fig, axes = plt.subplots(1, 2, figsize=(10, 6))\n",
        "\n",
        "# Set the data for the top senders chart\n",
        "senders_data = df_senders.sort_values('frequency', ascending=True)\n",
        "senders_names = senders_data['email']\n",
        "senders_frequency = senders_data['frequency']\n",
        "\n",
        "# Plot the top senders chart\n",
        "axes[0].barh(senders_names, senders_frequency)\n",
        "axes[0].set_title('Top Senders')\n",
        "axes[0].set_xlabel('Number of Emails')\n",
        "axes[0].set_ylabel('Employees')\n",
        "\n",
        "# Set the data for the top recipients chart\n",
        "recipients_data = df_recipients.sort_values('frequency', ascending=True)\n",
        "recipients_names = recipients_data['email']\n",
        "recipients_frequency = recipients_data['frequency']\n",
        "\n",
        "# Plot the top recipients chart\n",
        "axes[1].barh(recipients_names, recipients_frequency)\n",
        "axes[1].set_title('Top Recipients')\n",
        "axes[1].set_xlabel('Number of Emails')\n",
        "axes[1].set_ylabel('Employees')\n",
        "\n",
        "# Adjust the layout and spacing\n",
        "plt.tight_layout()\n",
        "\n",
        "# Display the charts\n",
        "plt.show()"
      ],
      "metadata": {
        "id": "-FeBNwQWhfXC"
      },
      "execution_count": null,
      "outputs": []
    },
    {
      "cell_type": "markdown",
      "source": [
        "###Email Distribution by Recipient Type"
      ],
      "metadata": {
        "id": "c0iq-IDxhld0"
      }
    },
    {
      "cell_type": "markdown",
      "source": [
        "This code intends to use the 'rtype' column in the recipientinfo table to examine the proportion of emails sent to various recipient types ('to,' 'bcc,' and 'cc'). In addition, the code initially composes a SQL query to retrieve the recipient categories and their respective counts from the recipientinfo table. This query sorts the data by 'rtype' (recipient type) and counts the number of emails sent to each group."
      ],
      "metadata": {
        "id": "JyuV65bAjH9L"
      }
    },
    {
      "cell_type": "code",
      "source": [
        "import pandas as pd\n",
        "import matplotlib.pyplot as plt\n",
        "\n",
        "# Write an SQL query to extract the recipient types and their counts\n",
        "query = \"SELECT rtype, COUNT(*) AS count FROM Recipientinfo GROUP BY rtype\"\n",
        "\n",
        "# Execute the query and load the results into a DataFrame\n",
        "df_recipient_types = pd.read_sql_query(query, con)\n",
        "\n",
        "plt.figure(figsize=(8, 5))\n",
        "plt.bar(df_recipient_types['rtype'], df_recipient_types['count'])\n",
        "plt.xlabel('Recipient Type')\n",
        "plt.ylabel('number of emails')\n",
        "plt.title('Proportion of Emails by Recipient Type')\n",
        "plt.xticks(rotation=0)\n",
        "plt.show()"
      ],
      "metadata": {
        "id": "6BeqmDO5hpW9"
      },
      "execution_count": null,
      "outputs": []
    },
    {
      "cell_type": "markdown",
      "source": [
        "####Cleaned Code\n",
        "In this code, I put the above code in chat GPT and ask it give me a cleaned code by connecting to the Enron Email SQLite database, perform data cleaning and preprocessing steps (such as dropping missing values and removing duplicates), and then plot the cleaned and preprocessed data."
      ],
      "metadata": {
        "id": "Y66ZmNwzancw"
      }
    },
    {
      "cell_type": "code",
      "source": [
        "import pandas as pd\n",
        "import matplotlib.pyplot as plt\n",
        "import sqlite3\n",
        "\n",
        "# Connect to the Enron Email SQLite database\n",
        "conn = sqlite3.connect('enron.db')\n",
        "\n",
        "# Perform data cleaning and preprocessing steps\n",
        "# Query the data from the database\n",
        "query = \"SELECT rtype, COUNT(*) AS count FROM Recipientinfo GROUP BY rtype\"\n",
        "df = pd.read_sql_query(query, conn)\n",
        "\n",
        "# Drop missing values\n",
        "df = df.dropna()\n",
        "\n",
        "# Remove duplicates\n",
        "df = df.drop_duplicates()\n",
        "\n",
        "# Close the database connection\n",
        "conn.close()\n",
        "\n",
        "# Plot the cleaned and preprocessed data\n",
        "plt.figure(figsize=(8, 5))\n",
        "plt.bar(df['rtype'], df['count'])\n",
        "plt.xlabel('Recipient Type')\n",
        "plt.ylabel('Number of Emails')\n",
        "plt.title('Proportion of Emails by Recipient Type')\n",
        "plt.xticks(rotation=0)\n",
        "plt.show()\n"
      ],
      "metadata": {
        "id": "PtBIzADLbMW-"
      },
      "execution_count": null,
      "outputs": []
    },
    {
      "cell_type": "markdown",
      "source": [
        "The resulting bar chart shows how many emails were sent to each recipient category. Insights into the communication patterns and distribution of emails among various recipient categories can be gained by comparing and identifying the most common recipient types in the dataset."
      ],
      "metadata": {
        "id": "iu7J7kG2jLQf"
      }
    },
    {
      "cell_type": "markdown",
      "source": [
        "####Creating a pie chart"
      ],
      "metadata": {
        "id": "g30yaHVGjZ0q"
      }
    },
    {
      "cell_type": "code",
      "source": [
        "import pandas as pd\n",
        "import matplotlib.pyplot as plt\n",
        "\n",
        "# Write an SQL query to extract the recipient types and their counts\n",
        "query = \"SELECT rtype, COUNT(*) AS count FROM Recipientinfo GROUP BY rtype\"\n",
        "\n",
        "# Execute the query and load the results into a DataFrame\n",
        "df_recipient_types = pd.read_sql_query(query, con)\n",
        "\n",
        "# Create a pie chart\n",
        "plt.figure(figsize=(8, 6))\n",
        "plt.pie(df_recipient_types['count'], labels=df_recipient_types['rtype'], autopct='%1.1f%%')\n",
        "plt.title('Proportion of Emails by Recipient Type')\n",
        "plt.show()"
      ],
      "metadata": {
        "id": "xEHL-07qjf30"
      },
      "execution_count": null,
      "outputs": []
    },
    {
      "cell_type": "markdown",
      "source": [
        "##Discussion\n",
        "\n",
        "Analyzing Enron's email data revealed communication patterns and led investigators closer to possible evidence of fraud in the company's case study. Some supplementary information about the most important conclusions I've drawn from the data analysis is as follows: \n",
        "\n",
        "\n",
        "*   Analysis of email metadata, such as the number of emails sent by an individual or a group, can reveal anomalies or unusual patterns that may point to suspicious behaviour. An unusually high number of emails sent or received by a single person or group of people, especially during pivotal times, may be a red flag for fraudulent activity or covert plotting.\n",
        "\n",
        "*   Tracking email volume can reveal significant events or periods of increased communication. By comparing email activity to Enron case events, communication patterns may be linked to specific events. This analysis can help build a timeline and identify key moments for further investigation.\n",
        "\n",
        "\n",
        "*   Distribution of Recipient Types Analyzing the distribution of email recipients by type ('to,' 'bcc,' 'cc') can provide insight into how information was shared and who had access to particular conversations. It can reveal whether or not certain people were purposefully excluded from meetings or if there were attempts to hide information through the use of blind carbon copy (BCC). The results of such an analysis can be very helpful in determining the level of cooperation or any attempts to conceal wrongdoing.\n",
        "\n",
        "*   The network structure of an organisation can be deduced from the amount and type of interaction between its employees. The dynamics and power structures of a company can be better understood by identifying key individuals or influential groups. It can also be used to figure out who among a group of people may have had access to sensitive data or played a key role in a fraudulent scheme.\n",
        "\n",
        "\n"
      ],
      "metadata": {
        "id": "VBG5vWp5nn8d"
      }
    },
    {
      "cell_type": "markdown",
      "source": [
        "## Conclusion\n",
        "\n",
        "The data analysis of the Enron email dataset, taken as a whole, provides insights into the communication dynamics, network structures, collaboration patterns, and potential irregularities or suspicious behaviour. These insights have the potential to be extremely helpful in gaining a better understanding of the Enron case, in locating key individuals who were involved, and in supplying valuable evidence in investigations related to fraud and corporate misconduct."
      ],
      "metadata": {
        "id": "RfaBxPaXkFlv"
      }
    },
    {
      "cell_type": "markdown",
      "source": [
        "## References:\n",
        "\n",
        "\n",
        "\n",
        "* Data Cleaning and Preprocessing - https://medium.com/analytics-vidhya/data-cleaning-and-preprocessing-a4b751f4066f\n",
        "\n",
        "* Vasiliev, 2021 - https://blogs.oracle.com/connect/post/run-sql-data-queries-pandas\n",
        "\n",
        "* Praveer, 2015 - https://www.studocu.com/en-au/document/macquarie-university/accountants-in-the-profession/enron-case/1633970\n",
        "\n",
        "\n",
        "\n",
        "* Dickson, 2020 - https://www.freecodecamp.org/news/connect-python-with-sql/\n",
        "\n",
        "\n",
        "\n",
        "\n",
        "\n"
      ],
      "metadata": {
        "id": "6oVsEkoLk_3Q"
      }
    }
  ]
}