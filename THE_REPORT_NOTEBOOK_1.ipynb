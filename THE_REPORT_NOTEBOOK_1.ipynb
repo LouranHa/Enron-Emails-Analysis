{
  "nbformat": 4,
  "nbformat_minor": 0,
  "metadata": {
    "colab": {
      "private_outputs": true,
      "provenance": [],
      "authorship_tag": "ABX9TyNVhcL+CLAq0KTqW+TrCBxp",
      "include_colab_link": true
    },
    "kernelspec": {
      "name": "python3",
      "display_name": "Python 3"
    },
    "language_info": {
      "name": "python"
    }
  },
  "cells": [
    {
      "cell_type": "markdown",
      "metadata": {
        "id": "view-in-github",
        "colab_type": "text"
      },
      "source": [
        "<a href=\"https://colab.research.google.com/github/LouranHa/isys2001-assignment-demo/blob/main/THE_REPORT_NOTEBOOK_1.ipynb\" target=\"_parent\"><img src=\"https://colab.research.google.com/assets/colab-badge.svg\" alt=\"Open In Colab\"/></a>"
      ]
    },
    {
      "cell_type": "markdown",
      "source": [
        "I am using wget to download the enron.db file from the provided URL and save it locally with the same name. The file is likely an SQLite database file that contains the data for the Enron Email dataset used in the subsequent code."
      ],
      "metadata": {
        "id": "rLbbjnETjUst"
      }
    },
    {
      "cell_type": "code",
      "execution_count": null,
      "metadata": {
        "id": "iAVNpKeRe9QV"
      },
      "outputs": [],
      "source": [
        "!wget -O enron.db https://curtin-my.sharepoint.com/:u:/g/personal/211934g_curtin_edu_au/EaYagsqa2r1Bi5wtHbswGFwBH2kd2uTnz6rlka7GI36GUQ?download=1"
      ]
    },
    {
      "cell_type": "markdown",
      "source": [
        "to establish a connection to an SQLite database file named enron.db and creates a cursor object to interact with the database by using the below codes. This connection and cursor can be used to execute SQL queries and retrieve data from the Enron Email dataset stored in the enron.db database."
      ],
      "metadata": {
        "id": "A7PWIAksjT2V"
      }
    },
    {
      "cell_type": "code",
      "source": [
        "import sqlite3\n",
        "con = sqlite3.connect('enron.db')\n",
        "cur = con.cursor()"
      ],
      "metadata": {
        "id": "dFD15rC-lPop"
      },
      "execution_count": null,
      "outputs": []
    },
    {
      "cell_type": "markdown",
      "source": [
        "here is how I fetch the data from the specified table (EX: Recipient Info) in the connected SQLite database and store it in a pandas DataFrame for further analysis or processing."
      ],
      "metadata": {
        "id": "vUR_DBJnlTXZ"
      }
    },
    {
      "cell_type": "code",
      "source": [
        "SQL='''\n",
        "SELECT * FROM message\n",
        "\n",
        "'''\n",
        "cur.execute(SQL)\n",
        "\n",
        "import pandas as pd\n",
        "message_df = pd.read_sql_query(SQL, con)\n",
        "message_df.head()"
      ],
      "metadata": {
        "id": "yd02m1WTmleC"
      },
      "execution_count": null,
      "outputs": []
    },
    {
      "cell_type": "markdown",
      "source": [
        "I want to understand the structure of the tables, including the column names, data types, primary keys, and other constraints.So I need to examine the schema of the database by using the \"PRAGMA table_info(table_name)\" command to get the schema of a table which I asked the chat GPT.To be more specific, I will examine the schema of the 'Message' table as an example."
      ],
      "metadata": {
        "id": "E_NiuPgNnF-4"
      }
    },
    {
      "cell_type": "code",
      "source": [
        "import sqlite3\n",
        "\n",
        "# Connect to the Enron Email SQLite database\n",
        "conn = sqlite3.connect('enron.db')\n",
        "\n",
        "# Get the cursor object\n",
        "cur = conn.cursor()\n",
        "\n",
        "# Execute the PRAGMA command to retrieve the schema of the 'Message' table\n",
        "cur.execute(\"PRAGMA table_info(Message)\")\n",
        "\n",
        "# Fetch all the rows returned by the query\n",
        "rows = cur.fetchall()\n",
        "\n",
        "# Print the schema information\n",
        "for row in rows:\n",
        "    print(row)\n",
        "\n",
        "# Close the database connection\n",
        "conn.close()\n"
      ],
      "metadata": {
        "id": "wtuU8DyVprAL"
      },
      "execution_count": null,
      "outputs": []
    },
    {
      "cell_type": "markdown",
      "source": [
        "to write an SQL query to extract relevant information from a table and use Pandas to load the query results into a DataFrame, I also use the way how to load a table \n",
        "\n",
        "```\n",
        "SQL='''\n",
        "SELECT * FROM message\n",
        "\n",
        "'''\n",
        "cur.execute(SQL)\n",
        "\n",
        "import pandas as pd\n",
        "message_df = pd.read_sql_query(SQL, con)\n",
        "message_df.head()\n",
        "```\n",
        "In this code, I define the SQL query you want to execute, which in this case selects all columns ('*') from the Message table. Then, I execute the query using the cursor's execute() method. After that, I import the Pandas library and use the 'read_sql_query()' function to load the query results into a DataFrame named 'message_df'. Finally, I display the first few rows of the DataFrame using the 'head()' method.\n",
        "\n",
        "\n",
        "I can try to run on table Recipientinfo as shown below code\n"
      ],
      "metadata": {
        "id": "rwZeltTFqbrZ"
      }
    },
    {
      "cell_type": "code",
      "source": [
        "import pandas as pd\n",
        "import sqlite3\n",
        "\n",
        "# Connect to the database\n",
        "conn = sqlite3.connect('enron.db')\n",
        "\n",
        "# Write your SQL query\n",
        "sql_query = \"SELECT * FROM message\"\n",
        "\n",
        "# Load query results into a DataFrame\n",
        "message_df = pd.read_sql_query(sql_query, conn)\n",
        "\n",
        "# Close the database connection\n",
        "conn.close()\n",
        "\n",
        "# Now you can work with the DataFrame\n",
        "print(message_df.head())\n"
      ],
      "metadata": {
        "id": "un8ahaGa7DFv"
      },
      "execution_count": null,
      "outputs": []
    },
    {
      "cell_type": "markdown",
      "source": [
        "The above code itself which doesn't demonstrate any specific data manipulation tasks only retrieves data from the 'message' table in the SQLite database and loads it into a DataFrame. However, it sets up the foundation for performing those tasks. Once I have the data in the message_df DataFrame, I can apply various pandas functions and methods to manipulate the data as needed.\n",
        "\n"
      ],
      "metadata": {
        "id": "Z46J5O3G7-0H"
      }
    },
    {
      "cell_type": "code",
      "source": [
        "SQL='''\n",
        "SELECT * FROM message\n",
        "\n",
        "'''\n",
        "table = cur.execute(SQL)\n",
        "for roll in table:\n",
        "  print(roll.head())"
      ],
      "metadata": {
        "id": "a61T4Lr-PMTe"
      },
      "execution_count": null,
      "outputs": []
    }
  ]
}